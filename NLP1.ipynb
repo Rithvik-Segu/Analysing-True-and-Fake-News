{
 "cells": [
  {
   "cell_type": "code",
   "execution_count": 8,
   "id": "8fcef7b8",
   "metadata": {
    "colab": {
     "base_uri": "https://localhost:8080/"
    },
    "id": "8fcef7b8",
    "outputId": "7c636a31-fbb3-40cd-aa11-275b88abf245"
   },
   "outputs": [
    {
     "name": "stderr",
     "output_type": "stream",
     "text": [
      "[nltk_data] Downloading package punkt to /root/nltk_data...\n",
      "[nltk_data]   Unzipping tokenizers/punkt.zip.\n"
     ]
    },
    {
     "data": {
      "text/plain": [
       "True"
      ]
     },
     "execution_count": 8,
     "metadata": {},
     "output_type": "execute_result"
    }
   ],
   "source": [
    "import pandas as pd\n",
    "import nltk\n",
    "from itertools import chain\n",
    "nltk.download('punkt')"
   ]
  },
  {
   "cell_type": "code",
   "execution_count": 4,
   "id": "PO1dbdVSphOQ",
   "metadata": {
    "colab": {
     "base_uri": "https://localhost:8080/"
    },
    "id": "PO1dbdVSphOQ",
    "outputId": "9c1c1761-4049-4c2b-90c7-bcbc87ee6df0"
   },
   "outputs": [
    {
     "name": "stdout",
     "output_type": "stream",
     "text": [
      "Mounted at /drive\n"
     ]
    }
   ],
   "source": [
    "import csv\n",
    "import pandas as pd"
   ]
  },
  {
   "cell_type": "code",
   "execution_count": 5,
   "id": "a6ff93bc",
   "metadata": {
    "id": "a6ff93bc"
   },
   "outputs": [],
   "source": [
    "df = pd.read_csv(\"/Users/segurithvik/Downloads/True.csv\") #reading csv files\n",
    "df2 = pd.read_csv('/Users/segurithvik/Downloads/Fake.csv')"
   ]
  },
  {
   "cell_type": "markdown",
   "id": "efddd9c8",
   "metadata": {
    "id": "efddd9c8"
   },
   "source": [
    "# Pre processing: Step1 : Tokenization\n",
    "\n",
    "Tokenization helps us to break a piece of text to individual units, in our case since we have a lot of data in text if we tokenize the text will be broken into individual pieces/units which will make our job lot easy to understand."
   ]
  },
  {
   "cell_type": "code",
   "execution_count": 9,
   "id": "d59a267c",
   "metadata": {
    "id": "d59a267c"
   },
   "outputs": [],
   "source": [
    "truth = df['text']\n",
    "truth_tokens0 = []\n",
    "for i in truth:\n",
    "        tokens = nltk.word_tokenize(i)\n",
    "        truth_tokens0.append(tokens) #tokenizing the text column, here it tokenizes each in row in the text column"
   ]
  },
  {
   "cell_type": "code",
   "execution_count": 10,
   "id": "99282af7",
   "metadata": {
    "id": "99282af7"
   },
   "outputs": [],
   "source": [
    "fake = df2['text']\n",
    "fake_tokens0 = []\n",
    "for i in fake:\n",
    "        tokens1 = nltk.word_tokenize(i)\n",
    "        fake_tokens0.append(tokens1)"
   ]
  },
  {
   "cell_type": "code",
   "execution_count": 11,
   "id": "14a391ff",
   "metadata": {
    "id": "14a391ff"
   },
   "outputs": [],
   "source": [
    "truth_tokens = list(chain.from_iterable(truth_tokens0))"
   ]
  },
  {
   "cell_type": "code",
   "execution_count": 12,
   "id": "02c33eb8",
   "metadata": {
    "id": "02c33eb8"
   },
   "outputs": [],
   "source": [
    "fake_tokens = list(chain.from_iterable(fake_tokens0))"
   ]
  },
  {
   "cell_type": "markdown",
   "id": "ed8a50c0",
   "metadata": {
    "id": "ed8a50c0"
   },
   "source": [
    "# Step 2 : Lowercase\n",
    "\n",
    "Lower casing all the letters helps us to standardize the text"
   ]
  },
  {
   "cell_type": "code",
   "execution_count": 13,
   "id": "33aa0ce7",
   "metadata": {
    "id": "33aa0ce7"
   },
   "outputs": [],
   "source": [
    "truth_lower = [i.lower() for i in truth_tokens] #converting all characters to lower case"
   ]
  },
  {
   "cell_type": "code",
   "execution_count": 14,
   "id": "f805a87b",
   "metadata": {
    "id": "f805a87b"
   },
   "outputs": [],
   "source": [
    "fake_lower = [j.lower() for j in fake_tokens]"
   ]
  },
  {
   "cell_type": "markdown",
   "id": "99f93f98",
   "metadata": {
    "id": "99f93f98"
   },
   "source": [
    "# Step 3 : Filtering Text\n",
    "\n",
    "This helps us to only concentrate on the words in the text by eliminating the other characters"
   ]
  },
  {
   "cell_type": "code",
   "execution_count": 15,
   "id": "3f7c5fc5",
   "metadata": {
    "id": "3f7c5fc5"
   },
   "outputs": [],
   "source": [
    "truth_words = [w for w in truth_lower if w.isalpha()] #updating only words from the text"
   ]
  },
  {
   "cell_type": "code",
   "execution_count": 16,
   "id": "e1f09082",
   "metadata": {
    "id": "e1f09082"
   },
   "outputs": [],
   "source": [
    "fake_words = [v for v in fake_lower if v.isalpha()]"
   ]
  },
  {
   "cell_type": "markdown",
   "id": "d6431861",
   "metadata": {
    "id": "d6431861"
   },
   "source": [
    "# Step 4 : Stopwords\n",
    "\n",
    "Usually stop words are very common words like the, and, is which do not carry much of a significant meaning, so we try to remove the stop words so that text can get better for analysing, this will help us to focus more on key words, since we need to distinguish between the true and fake articles , removing stop words can help us focus more on the problem statement"
   ]
  },
  {
   "cell_type": "code",
   "execution_count": 17,
   "id": "99aa4821",
   "metadata": {
    "colab": {
     "base_uri": "https://localhost:8080/"
    },
    "id": "99aa4821",
    "outputId": "d5a51dd7-b5cf-459c-8dff-4e28e4811139"
   },
   "outputs": [
    {
     "name": "stderr",
     "output_type": "stream",
     "text": [
      "[nltk_data] Downloading package stopwords to /root/nltk_data...\n",
      "[nltk_data]   Unzipping corpora/stopwords.zip.\n"
     ]
    },
    {
     "data": {
      "text/plain": [
       "True"
      ]
     },
     "execution_count": 17,
     "metadata": {},
     "output_type": "execute_result"
    }
   ],
   "source": [
    "nltk.download('stopwords')"
   ]
  },
  {
   "cell_type": "code",
   "execution_count": 18,
   "id": "fe4e44a0",
   "metadata": {
    "colab": {
     "base_uri": "https://localhost:8080/"
    },
    "id": "fe4e44a0",
    "outputId": "7e14c52e-bb48-40b7-c8cd-7df5d4cadfb7"
   },
   "outputs": [
    {
     "name": "stderr",
     "output_type": "stream",
     "text": [
      "[nltk_data] Downloading package wordnet to /root/nltk_data...\n"
     ]
    },
    {
     "data": {
      "text/plain": [
       "True"
      ]
     },
     "execution_count": 18,
     "metadata": {},
     "output_type": "execute_result"
    }
   ],
   "source": [
    "nltk.download('wordnet')"
   ]
  },
  {
   "cell_type": "code",
   "execution_count": 19,
   "id": "a08900c4",
   "metadata": {
    "id": "a08900c4"
   },
   "outputs": [],
   "source": [
    "nltk_stop = nltk.corpus.stopwords.words('english')"
   ]
  },
  {
   "cell_type": "code",
   "execution_count": 20,
   "id": "4a4616cb",
   "metadata": {
    "id": "4a4616cb"
   },
   "outputs": [],
   "source": [
    "truth_stop = [i for i in truth_words if i in nltk_stop] #finding stop words"
   ]
  },
  {
   "cell_type": "code",
   "execution_count": 21,
   "id": "ccbd5710",
   "metadata": {
    "id": "ccbd5710"
   },
   "outputs": [],
   "source": [
    "fake_stop = [j for j in fake_words if j in nltk_stop]"
   ]
  },
  {
   "cell_type": "code",
   "execution_count": 22,
   "id": "2f24fdb4",
   "metadata": {
    "id": "2f24fdb4"
   },
   "outputs": [],
   "source": [
    "truth_withoutstop = [i for i in truth_words if i not in nltk_stop] #removing the stop words from the text"
   ]
  },
  {
   "cell_type": "code",
   "execution_count": 23,
   "id": "51216172",
   "metadata": {
    "id": "51216172"
   },
   "outputs": [],
   "source": [
    "fake_withoutstop = [j for j in fake_words if j not in nltk_stop]"
   ]
  },
  {
   "cell_type": "markdown",
   "id": "2da922e5",
   "metadata": {
    "id": "2da922e5"
   },
   "source": [
    "# Step 5: Lemmatization\n",
    "\n",
    "Lemmatization helps in normalizing the text, it helps us to reduce the unique words in our data set, which helps us a lot during the further analysis"
   ]
  },
  {
   "cell_type": "code",
   "execution_count": 24,
   "id": "e70267ca",
   "metadata": {
    "colab": {
     "base_uri": "https://localhost:8080/"
    },
    "id": "e70267ca",
    "outputId": "3c8d58ce-1911-4707-ad05-2b1678cb5272"
   },
   "outputs": [
    {
     "name": "stderr",
     "output_type": "stream",
     "text": [
      "[nltk_data] Downloading package wordnet to /root/nltk_data...\n",
      "[nltk_data]   Package wordnet is already up-to-date!\n",
      "[nltk_data] Downloading package omw-1.4 to /root/nltk_data...\n"
     ]
    }
   ],
   "source": [
    "nltk.download('wordnet')\n",
    "nltk.download('omw-1.4')\n",
    "wnl = nltk.WordNetLemmatizer()"
   ]
  },
  {
   "cell_type": "code",
   "execution_count": 25,
   "id": "d1dddd08",
   "metadata": {
    "id": "d1dddd08"
   },
   "outputs": [],
   "source": [
    "truth_withoutstopLemma= [wnl.lemmatize(j) for j in truth_withoutstop] #lemmatizing the words without stop words"
   ]
  },
  {
   "cell_type": "code",
   "execution_count": 26,
   "id": "1a866339",
   "metadata": {
    "id": "1a866339"
   },
   "outputs": [],
   "source": [
    "fake_withoutstopLemma= [wnl.lemmatize(l) for l in fake_withoutstop]"
   ]
  },
  {
   "cell_type": "markdown",
   "id": "407d78cb",
   "metadata": {
    "id": "407d78cb"
   },
   "source": [
    "# Data Analysis 1:\n",
    "Here we are doing the frequency distribution for top 50 content words, we are using the the text which does not contain stop words and is lemmatized, after that we are performing the frequency distribution.\n",
    "\n",
    "The truth data set has more formal words when compared to the fake dataset. The truth data set focuses more on the political stuff where as in the fake dataset we can see general words like video, image, via. The truth dataset covers about Trump and Clinton, where as in the fake dataset the covers text about trump, hilary and Obama."
   ]
  },
  {
   "cell_type": "code",
   "execution_count": 27,
   "id": "faa85487",
   "metadata": {
    "id": "faa85487"
   },
   "outputs": [],
   "source": [
    "from nltk import FreqDist\n",
    "fdist = FreqDist(truth_withoutstopLemma) #frequency distribution for text without stop words"
   ]
  },
  {
   "cell_type": "code",
   "execution_count": 28,
   "id": "7bcf952c",
   "metadata": {
    "id": "7bcf952c"
   },
   "outputs": [],
   "source": [
    "fdist1 = FreqDist(fake_withoutstopLemma)"
   ]
  },
  {
   "cell_type": "code",
   "execution_count": 29,
   "id": "216db7a6",
   "metadata": {
    "colab": {
     "base_uri": "https://localhost:8080/"
    },
    "id": "216db7a6",
    "outputId": "3fdaa2ca-472d-4bb6-dfbe-96afddb9566f"
   },
   "outputs": [
    {
     "name": "stdout",
     "output_type": "stream",
     "text": [
      "('said', 99037)\n",
      "('trump', 54280)\n",
      "('state', 36243)\n",
      "('would', 31526)\n",
      "('reuters', 28412)\n",
      "('president', 26939)\n",
      "('republican', 22098)\n",
      "('government', 19433)\n",
      "('year', 18721)\n",
      "('house', 16906)\n",
      "('new', 16784)\n",
      "('also', 15946)\n",
      "('united', 15576)\n",
      "('people', 15207)\n",
      "('party', 14964)\n",
      "('official', 14575)\n",
      "('told', 14244)\n",
      "('country', 13948)\n",
      "('election', 13910)\n",
      "('could', 13709)\n",
      "('one', 13025)\n",
      "('last', 12631)\n",
      "('washington', 12419)\n",
      "('two', 11620)\n",
      "('group', 11104)\n",
      "('campaign', 11079)\n",
      "('former', 10601)\n",
      "('leader', 10504)\n",
      "('donald', 10447)\n",
      "('week', 10426)\n",
      "('security', 10382)\n",
      "('court', 10338)\n",
      "('percent', 9937)\n",
      "('say', 9934)\n",
      "('north', 9870)\n",
      "('minister', 9541)\n",
      "('clinton', 9504)\n",
      "('white', 9500)\n",
      "('tax', 9230)\n",
      "('law', 9221)\n",
      "('senate', 9206)\n",
      "('obama', 9197)\n",
      "('time', 9048)\n",
      "('vote', 8981)\n",
      "('month', 8754)\n",
      "('china', 8564)\n",
      "('first', 8550)\n",
      "('national', 8534)\n",
      "('statement', 8522)\n",
      "('administration', 8378)\n"
     ]
    }
   ],
   "source": [
    "truth_top50content = fdist.most_common(50)\n",
    "\n",
    "for i in truth_top50content:\n",
    "    print (i)  # finding the top 50 content words for true data set"
   ]
  },
  {
   "cell_type": "code",
   "execution_count": 30,
   "id": "4c2fa8db",
   "metadata": {
    "colab": {
     "base_uri": "https://localhost:8080/"
    },
    "id": "4c2fa8db",
    "outputId": "a50c478b-0744-4e9d-c9f2-a6e8b0488c9d"
   },
   "outputs": [
    {
     "name": "stdout",
     "output_type": "stream",
     "text": [
      "('trump', 74403)\n",
      "('said', 31149)\n",
      "('president', 26340)\n",
      "('people', 26098)\n",
      "('one', 23812)\n",
      "('would', 23461)\n",
      "('state', 22072)\n",
      "('clinton', 18717)\n",
      "('like', 18207)\n",
      "('obama', 17920)\n",
      "('time', 17885)\n",
      "('donald', 17235)\n",
      "('american', 16093)\n",
      "('republican', 16061)\n",
      "('say', 15528)\n",
      "('also', 15243)\n",
      "('year', 14843)\n",
      "('new', 14198)\n",
      "('news', 14198)\n",
      "('u', 14181)\n",
      "('image', 13937)\n",
      "('even', 13692)\n",
      "('hillary', 13678)\n",
      "('white', 13146)\n",
      "('right', 12698)\n",
      "('get', 12230)\n",
      "('know', 11947)\n",
      "('make', 11534)\n",
      "('via', 11355)\n",
      "('woman', 11207)\n",
      "('medium', 11142)\n",
      "('campaign', 11069)\n",
      "('house', 10774)\n",
      "('country', 10770)\n",
      "('america', 10703)\n",
      "('could', 10230)\n",
      "('first', 10041)\n",
      "('want', 9818)\n",
      "('think', 9765)\n",
      "('going', 9750)\n",
      "('many', 9719)\n",
      "('way', 9394)\n",
      "('election', 9297)\n",
      "('day', 9217)\n",
      "('told', 9103)\n",
      "('government', 9079)\n",
      "('thing', 8962)\n",
      "('video', 8903)\n",
      "('made', 8667)\n",
      "('back', 8611)\n"
     ]
    }
   ],
   "source": [
    "fake_top50content = fdist1.most_common(50)\n",
    "\n",
    "for i in fake_top50content:\n",
    "    print (i) # finding the top 50 content words for fake data set"
   ]
  },
  {
   "cell_type": "markdown",
   "id": "f97738f0",
   "metadata": {
    "id": "f97738f0"
   },
   "source": [
    "# Data Analysis 2:\n",
    "\n",
    "Here we will be doing the frequency distrubution of top 50 stop words, here we will be using the text after finding out the stop words i.e truth_stop these are the stop words for true dataset.\n",
    "\n",
    "From our analysis we got that majorly the stop words as same, which are the basic stop words like 'the', 'to', 'of'. In the truth data set we can see stop words 'he', 'his' etc. which are in third person form whereas in the fake dataset, we can see 'I', 'you' which are in first person form. This might indicate that the text in true dataset is formal and in the fake dataset it is informal."
   ]
  },
  {
   "cell_type": "code",
   "execution_count": 31,
   "id": "cc2af7e7",
   "metadata": {
    "id": "cc2af7e7"
   },
   "outputs": [],
   "source": [
    "fdist_stop = FreqDist(truth_stop)"
   ]
  },
  {
   "cell_type": "code",
   "execution_count": 32,
   "id": "6b25ed5d",
   "metadata": {
    "id": "6b25ed5d"
   },
   "outputs": [],
   "source": [
    "fdist1_stop = FreqDist(fake_stop)"
   ]
  },
  {
   "cell_type": "code",
   "execution_count": 33,
   "id": "f440f4ff",
   "metadata": {
    "colab": {
     "base_uri": "https://localhost:8080/"
    },
    "id": "f440f4ff",
    "outputId": "6e99d88e-e06d-47ea-f82d-7b841ee686d6"
   },
   "outputs": [
    {
     "name": "stdout",
     "output_type": "stream",
     "text": [
      "('the', 482176)\n",
      "('to', 245125)\n",
      "('of', 204959)\n",
      "('a', 197860)\n",
      "('and', 181686)\n",
      "('in', 180673)\n",
      "('on', 108346)\n",
      "('s', 99902)\n",
      "('that', 88116)\n",
      "('for', 79730)\n",
      "('is', 55439)\n",
      "('with', 54485)\n",
      "('he', 54368)\n",
      "('it', 49364)\n",
      "('was', 47940)\n",
      "('by', 47637)\n",
      "('as', 47307)\n",
      "('has', 46243)\n",
      "('from', 39376)\n",
      "('his', 38016)\n",
      "('not', 37594)\n",
      "('have', 36415)\n",
      "('be', 34295)\n",
      "('at', 33164)\n",
      "('an', 32710)\n",
      "('who', 27642)\n",
      "('but', 26596)\n",
      "('are', 26127)\n",
      "('had', 25672)\n",
      "('will', 25241)\n",
      "('we', 22163)\n",
      "('they', 22064)\n",
      "('its', 21319)\n",
      "('this', 21025)\n",
      "('which', 20809)\n",
      "('been', 19600)\n",
      "('after', 19375)\n",
      "('were', 18916)\n",
      "('about', 17425)\n",
      "('more', 17197)\n",
      "('i', 17020)\n",
      "('their', 16826)\n",
      "('or', 15107)\n",
      "('over', 13841)\n",
      "('some', 12752)\n",
      "('if', 12538)\n",
      "('she', 11721)\n",
      "('there', 11642)\n",
      "('other', 11581)\n",
      "('than', 11299)\n"
     ]
    }
   ],
   "source": [
    "truth_top50stop = fdist_stop.most_common(50)\n",
    "\n",
    "for i in truth_top50stop:\n",
    "    print (i) # top 50 stopwords for true dataset"
   ]
  },
  {
   "cell_type": "code",
   "execution_count": 34,
   "id": "a9125b5a",
   "metadata": {
    "colab": {
     "base_uri": "https://localhost:8080/"
    },
    "id": "a9125b5a",
    "outputId": "4c0e4be5-15b7-428f-d917-047ef41ff1f6"
   },
   "outputs": [
    {
     "name": "stdout",
     "output_type": "stream",
     "text": [
      "('the', 528689)\n",
      "('to', 289665)\n",
      "('of', 235806)\n",
      "('and', 224544)\n",
      "('a', 211092)\n",
      "('in', 164857)\n",
      "('that', 150262)\n",
      "('s', 129641)\n",
      "('is', 110887)\n",
      "('for', 92115)\n",
      "('on', 81354)\n",
      "('it', 79374)\n",
      "('he', 77627)\n",
      "('was', 67794)\n",
      "('with', 62964)\n",
      "('his', 58037)\n",
      "('as', 55978)\n",
      "('this', 55655)\n",
      "('be', 48565)\n",
      "('by', 47387)\n",
      "('not', 46833)\n",
      "('are', 46350)\n",
      "('have', 46038)\n",
      "('they', 45190)\n",
      "('i', 43778)\n",
      "('who', 42327)\n",
      "('has', 42269)\n",
      "('at', 41569)\n",
      "('from', 40754)\n",
      "('t', 40531)\n",
      "('you', 40323)\n",
      "('we', 38205)\n",
      "('an', 34862)\n",
      "('about', 32834)\n",
      "('but', 31426)\n",
      "('their', 30202)\n",
      "('she', 25763)\n",
      "('her', 25705)\n",
      "('or', 24671)\n",
      "('what', 24594)\n",
      "('all', 24455)\n",
      "('will', 24061)\n",
      "('been', 22991)\n",
      "('out', 22925)\n",
      "('more', 22388)\n",
      "('if', 22221)\n",
      "('were', 21608)\n",
      "('when', 21272)\n",
      "('can', 20709)\n",
      "('had', 20425)\n"
     ]
    }
   ],
   "source": [
    "fake_top50stop = fdist1_stop.most_common(50)\n",
    "\n",
    "for i in fake_top50stop:\n",
    "    print (i) # Finding the top 50 stop words for fake data set"
   ]
  },
  {
   "cell_type": "markdown",
   "id": "3acd72aa",
   "metadata": {
    "id": "3acd72aa"
   },
   "source": [
    "# Data Analysis 3:\n",
    "\n",
    "Here we will be analysing the top 50 frequency bigrams, we will be using the text which is just lower, we will not use the text that is lemmatized and without stop words beacuse reduction in the stop words and punctuation marks leads to reduced text, in our case to find out the differences between the true and fake datasets, having text that is not reduced helps us to provide more insights.\n",
    "\n",
    "The truth data set, has bigrams like he said, said the etc. which are formal and news driven, whereas the fake dataset has bigrams like it’s, don’t which is informal. The Truth dataset has bigrams like on Wednesday, on Tuesday, where as the fake dataset has verb phrases like is going, has been etc. Same as the above results from bigrams we get that the truth data set is more formal and fake data has more informal words in it.\n",
    "\n"
   ]
  },
  {
   "cell_type": "code",
   "execution_count": 35,
   "id": "b922ef92",
   "metadata": {
    "colab": {
     "base_uri": "https://localhost:8080/"
    },
    "id": "b922ef92",
    "outputId": "8e528a0b-97ee-4f2a-890e-9c8952465bdd"
   },
   "outputs": [
    {
     "data": {
      "text/plain": [
       "[('’ s', 54934),\n",
       " ('. the', 47832),\n",
       " ('of the', 47691),\n",
       " ('in the', 41021),\n",
       " ('. “', 27274),\n",
       " (', the', 27023),\n",
       " (', ”', 24486),\n",
       " ('to the', 22242),\n",
       " ('said .', 21592),\n",
       " (') -', 21350),\n",
       " ('reuters )', 21251),\n",
       " ('( reuters', 21250),\n",
       " (', a', 20466),\n",
       " ('in a', 18252),\n",
       " (', and', 18022),\n",
       " ('on the', 16603),\n",
       " ('for the', 15427),\n",
       " ('the united', 14172),\n",
       " (', which', 13829),\n",
       " (', said', 13758),\n",
       " ('and the', 12142),\n",
       " ('united states', 12085),\n",
       " (', who', 11875),\n",
       " ('trump ’', 11674),\n",
       " ('the u.s.', 11653),\n",
       " ('with the', 11165),\n",
       " ('at the', 10829),\n",
       " ('by the', 10474),\n",
       " (', but', 10400),\n",
       " ('donald trump', 10098),\n",
       " ('said on', 10056),\n",
       " ('he said', 9756),\n",
       " ('to be', 9725),\n",
       " ('that the', 9324),\n",
       " ('. in', 9145),\n",
       " ('of a', 9022),\n",
       " ('from the', 8823),\n",
       " ('said the', 8789),\n",
       " ('. he', 8572),\n",
       " ('white house', 8372),\n",
       " ('. trump', 8051),\n",
       " ('said in', 7991),\n",
       " (', he', 7983),\n",
       " ('. it', 7909),\n",
       " ('. but', 7543),\n",
       " ('as a', 7438),\n",
       " ('on wednesday', 7284),\n",
       " ('on tuesday', 7197),\n",
       " ('to a', 7061),\n",
       " ('. a', 7013)]"
      ]
     },
     "execution_count": 35,
     "metadata": {},
     "output_type": "execute_result"
    }
   ],
   "source": [
    "from nltk.util import ngrams\n",
    "bigrams = [\" \".join(w) for w in ngrams(truth_lower, 2)]\n",
    "fdist_bigram = FreqDist(bigrams)\n",
    "fdist_bigram.most_common(50)  # top 50 bigrams for true data set"
   ]
  },
  {
   "cell_type": "code",
   "execution_count": 36,
   "id": "adf6f4c7",
   "metadata": {
    "colab": {
     "base_uri": "https://localhost:8080/"
    },
    "id": "adf6f4c7",
    "outputId": "f5d5b827-c409-4cc9-f388-034734f10a48"
   },
   "outputs": [
    {
     "data": {
      "text/plain": [
       "[('of the', 53862),\n",
       " ('in the', 39035),\n",
       " (', and', 38041),\n",
       " (', the', 29679),\n",
       " ('to the', 27634),\n",
       " ('. the', 25608),\n",
       " ('on the', 18628),\n",
       " ('( @', 17770),\n",
       " ('it s', 17367),\n",
       " ('to be', 16402),\n",
       " (', but', 15977),\n",
       " ('for the', 15880),\n",
       " ('that the', 14404),\n",
       " ('and the', 14046),\n",
       " ('trump s', 13344),\n",
       " ('donald trump', 13215),\n",
       " ('. he', 13116),\n",
       " ('. it', 13016),\n",
       " ('. i', 12831),\n",
       " ('at the', 12661),\n",
       " ('with the', 11768),\n",
       " (', he', 11455),\n",
       " ('in a', 11396),\n",
       " ('is a', 10889),\n",
       " (', a', 10406),\n",
       " ('from the', 10208),\n",
       " ('by the', 10126),\n",
       " ('don t', 9530),\n",
       " (', it', 9329),\n",
       " ('of a', 9297),\n",
       " ('that he', 9149),\n",
       " (', which', 8970),\n",
       " ('as a', 8900),\n",
       " (', who', 8632),\n",
       " ('he s', 8133),\n",
       " ('. we', 8041),\n",
       " ('. and', 8038),\n",
       " ('has been', 7721),\n",
       " (', i', 7663),\n",
       " ('this is', 7642),\n",
       " ('. in', 7590),\n",
       " ('that s', 7320),\n",
       " ('. this', 7284),\n",
       " ('one of', 7135),\n",
       " ('. but', 7114),\n",
       " ('he was', 7023),\n",
       " ('it was', 6990),\n",
       " ('is the', 6919),\n",
       " ('the united', 6885),\n",
       " ('going to', 6832)]"
      ]
     },
     "execution_count": 36,
     "metadata": {},
     "output_type": "execute_result"
    }
   ],
   "source": [
    "from nltk.util import ngrams\n",
    "bigrams1 = [\" \".join(v) for v in ngrams(fake_lower, 2)]\n",
    "fdist1_bigram = FreqDist(bigrams1)\n",
    "fdist1_bigram.most_common(50) #top 50 data set for fake dataset"
   ]
  },
  {
   "cell_type": "markdown",
   "id": "395fc433",
   "metadata": {
    "id": "395fc433"
   },
   "source": [
    "# Data Analysis 4:\n",
    "\n",
    "Here we will be analysing the top 50 frequency bi grams with mutual information and a minimum frequency of 5, We will using just the lower texxt, not the completely pre processed text for our analysis, because of the same reason mentioned above in Analysis 3.\n",
    "\n",
    "The truth data set contains unique entity bigrams like people, place, organization names etc. Where as the fake data set contains URL links and twitter handles, which indicates the more discussions on social media. In truth data set it appears the bi grams are content driven whereas in the fake data set it has more social media conversations and on top of it we can see that truth data set is more about a similar content whereas the fake data sets has random conversations in social media, this might be the reason why the texts are informal in the fake data set.\n",
    "\n",
    "If we compare the analysis above(Data Analysis 3), bigrams with mutual information and minimum frequency is providing support to the conclusion we got in analysis 3, which stated that the true data set has text which is formal and fake dataset has text which is informal, in this analysis we got the validation to that conclusion by the URL's in the fake data set and the words formal words like organization ,place in true data set"
   ]
  },
  {
   "cell_type": "code",
   "execution_count": 37,
   "id": "5c5c61e7",
   "metadata": {
    "colab": {
     "base_uri": "https://localhost:8080/"
    },
    "id": "5c5c61e7",
    "outputId": "61719189-147b-4577-eb64-dfd7b036d3c7"
   },
   "outputs": [
    {
     "name": "stdout",
     "output_type": "stream",
     "text": [
      "(('agua', 'bonita'), 20.830254141762293)\n",
      "(('clarece', 'polke'), 20.830254141762293)\n",
      "(('darz', 'aab'), 20.830254141762293)\n",
      "(('dori', 'esfahani'), 20.830254141762293)\n",
      "(('doxycycline', 'hyclate'), 20.830254141762293)\n",
      "(('ejaz', 'ashrafi'), 20.830254141762293)\n",
      "(('ettore', 'rosato'), 20.830254141762293)\n",
      "(('jabha', 'shamiya'), 20.830254141762293)\n",
      "(('kajo', 'keji'), 20.830254141762293)\n",
      "(('lista', 'marjana'), 20.830254141762293)\n",
      "(('maale', 'adumim'), 20.830254141762293)\n",
      "(('marjana', 'sarca'), 20.830254141762293)\n",
      "(('mohseni', 'ejei'), 20.830254141762293)\n",
      "(('petroleo', 'brasileiro'), 20.830254141762293)\n",
      "(('aqeel', 'al-tayyar'), 20.567219735928497)\n",
      "(('ballard', 'spahr'), 20.567219735928497)\n",
      "(('beji', 'caid'), 20.567219735928497)\n",
      "(('caid', 'essebsi'), 20.567219735928497)\n",
      "(('gudni', 'johannesson'), 20.567219735928497)\n",
      "(('hammam', 'al-alil'), 20.567219735928497)\n",
      "(('irina', 'bokova'), 20.567219735928497)\n",
      "(('jabar', 'al-luaibi'), 20.567219735928497)\n",
      "(('jakobsd', 'ttir'), 20.567219735928497)\n",
      "(('malala', 'yousafzai'), 20.567219735928497)\n",
      "(('marielena', 'hincapie'), 20.567219735928497)\n",
      "(('mato', 'grosso'), 20.567219735928497)\n",
      "(('mens', 'rea'), 20.567219735928497)\n",
      "(('moqtada', 'al-sadr'), 20.567219735928497)\n",
      "(('murithi', 'mutiga'), 20.567219735928497)\n",
      "(('najia', 'bounaim'), 20.567219735928497)\n",
      "(('ngoc', 'nhu'), 20.567219735928497)\n",
      "(('sinan', 'ulgen'), 20.567219735928497)\n",
      "(('sobhan', 'chowdhury'), 20.567219735928497)\n",
      "(('lashkar', 'gah'), 20.344827314592052)\n",
      "(('palong', 'khali'), 20.344827314592052)\n",
      "(('satya', 'nadella'), 20.344827314592052)\n",
      "(('triacetone', 'triperoxide'), 20.344827314592052)\n",
      "(('verisk', 'maplecroft'), 20.344827314592052)\n",
      "(('ant', 'nio'), 20.34482731459205)\n",
      "(('arkady', 'dvorkovich'), 20.34482731459205)\n",
      "(('bucky', 'hellwig'), 20.34482731459205)\n",
      "(('gwede', 'mantashe'), 20.34482731459205)\n",
      "(('hemin', 'hawrami'), 20.34482731459205)\n",
      "(('kembo', 'mohadi'), 20.34482731459205)\n",
      "(('linas', 'linkevicius'), 20.34482731459205)\n",
      "(('maithripala', 'sirisena'), 20.34482731459205)\n",
      "(('mata', 'pires'), 20.34482731459205)\n",
      "(('myong', 'guk'), 20.34482731459205)\n",
      "(('nickolay', 'mladenov'), 20.34482731459205)\n",
      "(('purwo', 'nugroho'), 20.34482731459205)\n"
     ]
    }
   ],
   "source": [
    "from nltk.collocations import *\n",
    "from nltk.collocations import BigramAssocMeasures\n",
    "from nltk.collocations import BigramCollocationFinder\n",
    "bigram_measures = nltk.collocations.BigramAssocMeasures()\n",
    "finder4 = BigramCollocationFinder.from_words(truth_lower)\n",
    "finder4.apply_freq_filter(5)\n",
    "scored = finder4.score_ngrams(bigram_measures.pmi)\n",
    "for bscore in scored[:50]:\n",
    "    print (bscore) # top 50 bi grams with mutual information(5 min freq) for true data set"
   ]
  },
  {
   "cell_type": "code",
   "execution_count": 38,
   "id": "eff8ddad",
   "metadata": {
    "colab": {
     "base_uri": "https://localhost:8080/"
    },
    "id": "eff8ddad",
    "outputId": "7d42ef59-1383-4eb6-e2cf-61dacb2c035d"
   },
   "outputs": [
    {
     "name": "stdout",
     "output_type": "stream",
     "text": [
      "(('//t.co/ltdtbehhgh', 'pic.twitter.com/t2s8ufif5o'), 21.07391482146583)\n",
      "(('0000', '0907'), 21.07391482146583)\n",
      "(('0907', '84b4'), 21.07391482146583)\n",
      "(('314a', '3453'), 21.07391482146583)\n",
      "(('3453', '0000'), 21.07391482146583)\n",
      "(('4d6c', '6330'), 21.07391482146583)\n",
      "(('5707', '5736'), 21.07391482146583)\n",
      "(('5774', '6a7a'), 21.07391482146583)\n",
      "(('6330', '666b'), 21.07391482146583)\n",
      "(('666b', '314a'), 21.07391482146583)\n",
      "(('6a7a', '4d6c'), 21.07391482146583)\n",
      "(('7616', '86f7'), 21.07391482146583)\n",
      "(('84b4', 'f787'), 21.07391482146583)\n",
      "(('86f7', 'a737'), 21.07391482146583)\n",
      "(('a737', '5707'), 21.07391482146583)\n",
      "(('acab', 'pic.twitter.com/naqnehnd5g'), 21.07391482146583)\n",
      "(('f787', '7616'), 21.07391482146583)\n",
      "(('kambree', 'kawahine'), 21.07391482146583)\n",
      "(('kawahine', 'koa'), 21.07391482146583)\n",
      "(('lynnette', 'hardway'), 21.07391482146583)\n",
      "(('managementvideo', 'solutionsvideo'), 21.07391482146583)\n",
      "(('myocardial', 'infarction'), 21.07391482146583)\n",
      "(('palos', 'verdes'), 21.07391482146583)\n",
      "(('pic.twitter.com/pxbrcgypwm', \"'gitmo\"), 21.07391482146583)\n",
      "(('platformvideo', 'managementvideo'), 21.07391482146583)\n",
      "(('r.t.', 'rybak'), 21.07391482146583)\n",
      "(('today.4767', '5774'), 21.07391482146583)\n",
      "(('vis-', '-vis'), 21.07391482146583)\n",
      "(('300m', 'employee-related'), 20.810880415632038)\n",
      "(('bacha', 'bazi'), 20.810880415632038)\n",
      "(('bucolic', 'adirondacks'), 20.810880415632038)\n",
      "(('fern', 'ndez'), 20.810880415632038)\n",
      "(('kel', 'inen'), 20.810880415632038)\n",
      "(('miyoshi', 'jager'), 20.810880415632038)\n",
      "(('mondaiale', 'commerciale'), 20.810880415632038)\n",
      "(('psi', 'upsilon'), 20.810880415632038)\n",
      "(('sedrick', 'tydus'), 20.810880415632038)\n",
      "(('kevork', 'djansezian/getty'), 20.810880415632035)\n",
      "(('paolo', 'gentiloni'), 20.810880415632035)\n",
      "(('semper', 'fi'), 20.810880415632035)\n",
      "(('bendavid', 'grabinski'), 20.58848799429559)\n",
      "(('dani', 'bostick'), 20.58848799429559)\n",
      "(('pic.twitter.com/fs297jooqi', 'vivelafrance'), 20.58848799429559)\n",
      "(('roller', 'coaster'), 20.58848799429559)\n",
      "(('svenska', 'dagbladet'), 20.58848799429559)\n",
      "(('yik', 'yak'), 20.58848799429559)\n",
      "(('283', '-138'), 20.588487994295587)\n",
      "(('g.k.', 'butterfield'), 20.588487994295587)\n",
      "(('neilson', 'barnard/getty'), 20.588487994295587)\n",
      "(('ria', 'novosti'), 20.588487994295587)\n"
     ]
    }
   ],
   "source": [
    "bigram_measures1 = nltk.collocations.BigramAssocMeasures()\n",
    "finder1 = BigramCollocationFinder.from_words(fake_lower)\n",
    "finder1.apply_freq_filter(5)\n",
    "scored1 = finder1.score_ngrams(bigram_measures1.pmi)\n",
    "for bscore in scored1[:50]:\n",
    "    print (bscore) #top 50 bi grams with mutual information(5 min freq) for fake data set"
   ]
  },
  {
   "cell_type": "markdown",
   "id": "173e5770",
   "metadata": {
    "id": "173e5770"
   },
   "source": [
    "# Data Analysis 5:\n",
    "\n",
    "Here we will be comparing the adjectives from both the datasets with the text that is lemmatized and does not contain stop words,from our analysis we got that the truth data set contains more formal and political oriented adjectives like Presidential, federal etc. where as the adjectives in the fake data set are real, bad etc which are casual. Just like the above analysis so far, the truth dataset has more formal and political text where as the fake data set has more text which is informal and judgemental driven."
   ]
  },
  {
   "cell_type": "code",
   "execution_count": 41,
   "id": "02c0a45f",
   "metadata": {
    "colab": {
     "base_uri": "https://localhost:8080/"
    },
    "id": "02c0a45f",
    "outputId": "40e96a3b-fb9a-4230-f509-5fcd38d0b983"
   },
   "outputs": [
    {
     "name": "stderr",
     "output_type": "stream",
     "text": [
      "[nltk_data] Downloading package averaged_perceptron_tagger to\n",
      "[nltk_data]     /root/nltk_data...\n",
      "[nltk_data]   Unzipping taggers/averaged_perceptron_tagger.zip.\n"
     ]
    }
   ],
   "source": [
    "nltk.download('averaged_perceptron_tagger')\n",
    "tagged_token = nltk.pos_tag(truth_withoutstopLemma)\n",
    "real_adjs = [w for w,p in tagged_token if p=='JJ'] #finding adjectives for true data set\n"
   ]
  },
  {
   "cell_type": "code",
   "execution_count": 42,
   "id": "b4b99bf4",
   "metadata": {
    "id": "b4b99bf4"
   },
   "outputs": [],
   "source": [
    "tagged_token1 = nltk.pos_tag(fake_withoutstopLemma)\n",
    "fake_adjs = [v for v,q in tagged_token1 if q=='JJ']"
   ]
  },
  {
   "cell_type": "code",
   "execution_count": 43,
   "id": "0533f0fe",
   "metadata": {
    "colab": {
     "base_uri": "https://localhost:8080/"
    },
    "id": "0533f0fe",
    "outputId": "f8584807-72aa-4774-c131-06275b51f666"
   },
   "outputs": [
    {
     "name": "stdout",
     "output_type": "stream",
     "text": [
      "('republican', 20246)\n",
      "('new', 16784)\n",
      "('united', 13720)\n",
      "('last', 12631)\n",
      "('former', 10601)\n",
      "('white', 9500)\n",
      "('trump', 9348)\n",
      "('national', 8534)\n",
      "('north', 8257)\n",
      "('democratic', 8235)\n",
      "('foreign', 8197)\n",
      "('presidential', 7919)\n",
      "('military', 7856)\n",
      "('political', 7699)\n",
      "('american', 6811)\n",
      "('many', 6721)\n",
      "('federal', 6447)\n",
      "('russian', 5865)\n",
      "('public', 5124)\n",
      "('nuclear', 5027)\n",
      "('general', 4744)\n",
      "('international', 4737)\n",
      "('conservative', 4476)\n",
      "('european', 4361)\n",
      "('wednesday', 4346)\n",
      "('official', 4312)\n",
      "('friday', 4301)\n",
      "('first', 4300)\n",
      "('tuesday', 4267)\n",
      "('prime', 4238)\n",
      "('right', 4192)\n",
      "('thursday', 4160)\n",
      "('next', 4142)\n",
      "('economic', 4086)\n",
      "('islamic', 4065)\n",
      "('senior', 3938)\n",
      "('top', 3728)\n",
      "('several', 3555)\n",
      "('major', 3420)\n",
      "('korea', 3396)\n",
      "('representative', 3278)\n",
      "('monday', 3275)\n",
      "('south', 3239)\n",
      "('financial', 3213)\n",
      "('senate', 3152)\n",
      "('recent', 3129)\n",
      "('legal', 2968)\n",
      "('local', 2916)\n",
      "('syrian', 2871)\n",
      "('clear', 2858)\n"
     ]
    }
   ],
   "source": [
    "fadjdist = FreqDist(real_adjs)\n",
    "truth_top50adj = fadjdist.most_common(50)\n",
    "\n",
    "for k in truth_top50adj:\n",
    "    print (k) # top 50 adjectives for true data set"
   ]
  },
  {
   "cell_type": "code",
   "execution_count": 44,
   "id": "f6c02539",
   "metadata": {
    "colab": {
     "base_uri": "https://localhost:8080/"
    },
    "id": "f6c02539",
    "outputId": "feec5e0a-0795-437e-f99e-0eae2a4d4cfe"
   },
   "outputs": [
    {
     "name": "stdout",
     "output_type": "stream",
     "text": [
      "('american', 16070)\n",
      "('republican', 14889)\n",
      "('new', 14198)\n",
      "('white', 13146)\n",
      "('hillary', 12814)\n",
      "('u', 12196)\n",
      "('trump', 11337)\n",
      "('many', 9719)\n",
      "('black', 8047)\n",
      "('last', 7861)\n",
      "('political', 7551)\n",
      "('national', 7204)\n",
      "('former', 7124)\n",
      "('right', 6642)\n",
      "('united', 6611)\n",
      "('public', 6147)\n",
      "('donald', 5606)\n",
      "('presidential', 5580)\n",
      "('good', 5350)\n",
      "('first', 5346)\n",
      "('federal', 5316)\n",
      "('much', 5247)\n",
      "('russian', 5001)\n",
      "('conservative', 4924)\n",
      "('democratic', 4772)\n",
      "('great', 4204)\n",
      "('real', 3732)\n",
      "('military', 3578)\n",
      "('general', 3535)\n",
      "('social', 3485)\n",
      "('little', 3444)\n",
      "('clear', 3328)\n",
      "('big', 3328)\n",
      "('foreign', 3314)\n",
      "('obama', 3295)\n",
      "('free', 3204)\n",
      "('liberal', 3141)\n",
      "('several', 3081)\n",
      "('january', 3052)\n",
      "('illegal', 3042)\n",
      "('fox', 3041)\n",
      "('recent', 2864)\n",
      "('sure', 2836)\n",
      "('next', 2775)\n",
      "('young', 2677)\n",
      "('bad', 2674)\n",
      "('entire', 2663)\n",
      "('terrorist', 2617)\n",
      "('able', 2606)\n",
      "('america', 2601)\n"
     ]
    }
   ],
   "source": [
    "fadjdist1 = FreqDist(fake_adjs)\n",
    "fake_top50adj = fadjdist1.most_common(50)\n",
    "\n",
    "for k in fake_top50adj:\n",
    "    print (k) # top 50 adjectives for fake data set"
   ]
  },
  {
   "cell_type": "markdown",
   "id": "2519ee90",
   "metadata": {
    "id": "2519ee90"
   },
   "source": [
    "# More Data analysis:\n",
    "\n",
    "Here we will be calculating the total number of words of each article, content words, exclamation marks, capital words and total punctuations of all the words in each article."
   ]
  },
  {
   "cell_type": "code",
   "execution_count": 46,
   "id": "ef5aca2c",
   "metadata": {
    "id": "ef5aca2c"
   },
   "outputs": [],
   "source": [
    "import string\n",
    "val = []\n",
    "\n",
    "for tokens in truth_tokens0:\n",
    "    content_words = [token for token in tokens if token.isalpha()]\n",
    "    capital_words = sum(1 for token in tokens if token.isupper() and token != 'I')\n",
    "    exclamation_marks = tokens.count('!')\n",
    "    total_punctuations = sum(1 for token in tokens if token in string.punctuation)\n",
    "    total_words = len(tokens)\n",
    "\n",
    "    val.append([total_words, len(content_words), exclamation_marks, capital_words, total_punctuations])\n",
    "\n",
    "t_df = pd.DataFrame(val, columns=['total_words', 'content_word', 'exclamation_marks', 'capital_words', 'total_punctuations'])"
   ]
  },
  {
   "cell_type": "code",
   "execution_count": 47,
   "id": "33d5a817",
   "metadata": {
    "colab": {
     "base_uri": "https://localhost:8080/",
     "height": 424
    },
    "id": "33d5a817",
    "outputId": "0fdbccaf-3bb6-4cf6-e5a9-389e6e3dbe20"
   },
   "outputs": [
    {
     "data": {
      "text/html": [
       "\n",
       "  <div id=\"df-fcec44e7-babb-4fef-b069-fb7da2c999e1\" class=\"colab-df-container\">\n",
       "    <div>\n",
       "<style scoped>\n",
       "    .dataframe tbody tr th:only-of-type {\n",
       "        vertical-align: middle;\n",
       "    }\n",
       "\n",
       "    .dataframe tbody tr th {\n",
       "        vertical-align: top;\n",
       "    }\n",
       "\n",
       "    .dataframe thead th {\n",
       "        text-align: right;\n",
       "    }\n",
       "</style>\n",
       "<table border=\"1\" class=\"dataframe\">\n",
       "  <thead>\n",
       "    <tr style=\"text-align: right;\">\n",
       "      <th></th>\n",
       "      <th>total_words</th>\n",
       "      <th>content_word</th>\n",
       "      <th>exclamation_marks</th>\n",
       "      <th>capital_words</th>\n",
       "      <th>total_punctuations</th>\n",
       "    </tr>\n",
       "  </thead>\n",
       "  <tbody>\n",
       "    <tr>\n",
       "      <th>0</th>\n",
       "      <td>885</td>\n",
       "      <td>730</td>\n",
       "      <td>0</td>\n",
       "      <td>10</td>\n",
       "      <td>94</td>\n",
       "    </tr>\n",
       "    <tr>\n",
       "      <th>1</th>\n",
       "      <td>713</td>\n",
       "      <td>606</td>\n",
       "      <td>0</td>\n",
       "      <td>8</td>\n",
       "      <td>56</td>\n",
       "    </tr>\n",
       "    <tr>\n",
       "      <th>2</th>\n",
       "      <td>523</td>\n",
       "      <td>457</td>\n",
       "      <td>0</td>\n",
       "      <td>6</td>\n",
       "      <td>41</td>\n",
       "    </tr>\n",
       "    <tr>\n",
       "      <th>3</th>\n",
       "      <td>437</td>\n",
       "      <td>373</td>\n",
       "      <td>0</td>\n",
       "      <td>5</td>\n",
       "      <td>42</td>\n",
       "    </tr>\n",
       "    <tr>\n",
       "      <th>4</th>\n",
       "      <td>987</td>\n",
       "      <td>820</td>\n",
       "      <td>1</td>\n",
       "      <td>15</td>\n",
       "      <td>111</td>\n",
       "    </tr>\n",
       "    <tr>\n",
       "      <th>...</th>\n",
       "      <td>...</td>\n",
       "      <td>...</td>\n",
       "      <td>...</td>\n",
       "      <td>...</td>\n",
       "      <td>...</td>\n",
       "    </tr>\n",
       "    <tr>\n",
       "      <th>21412</th>\n",
       "      <td>505</td>\n",
       "      <td>440</td>\n",
       "      <td>0</td>\n",
       "      <td>14</td>\n",
       "      <td>47</td>\n",
       "    </tr>\n",
       "    <tr>\n",
       "      <th>21413</th>\n",
       "      <td>142</td>\n",
       "      <td>123</td>\n",
       "      <td>0</td>\n",
       "      <td>1</td>\n",
       "      <td>18</td>\n",
       "    </tr>\n",
       "    <tr>\n",
       "      <th>21414</th>\n",
       "      <td>358</td>\n",
       "      <td>307</td>\n",
       "      <td>0</td>\n",
       "      <td>4</td>\n",
       "      <td>40</td>\n",
       "    </tr>\n",
       "    <tr>\n",
       "      <th>21415</th>\n",
       "      <td>224</td>\n",
       "      <td>202</td>\n",
       "      <td>0</td>\n",
       "      <td>1</td>\n",
       "      <td>20</td>\n",
       "    </tr>\n",
       "    <tr>\n",
       "      <th>21416</th>\n",
       "      <td>233</td>\n",
       "      <td>201</td>\n",
       "      <td>0</td>\n",
       "      <td>3</td>\n",
       "      <td>25</td>\n",
       "    </tr>\n",
       "  </tbody>\n",
       "</table>\n",
       "<p>21417 rows × 5 columns</p>\n",
       "</div>\n",
       "    <div class=\"colab-df-buttons\">\n",
       "\n",
       "  <div class=\"colab-df-container\">\n",
       "    <button class=\"colab-df-convert\" onclick=\"convertToInteractive('df-fcec44e7-babb-4fef-b069-fb7da2c999e1')\"\n",
       "            title=\"Convert this dataframe to an interactive table.\"\n",
       "            style=\"display:none;\">\n",
       "\n",
       "  <svg xmlns=\"http://www.w3.org/2000/svg\" height=\"24px\" viewBox=\"0 -960 960 960\">\n",
       "    <path d=\"M120-120v-720h720v720H120Zm60-500h600v-160H180v160Zm220 220h160v-160H400v160Zm0 220h160v-160H400v160ZM180-400h160v-160H180v160Zm440 0h160v-160H620v160ZM180-180h160v-160H180v160Zm440 0h160v-160H620v160Z\"/>\n",
       "  </svg>\n",
       "    </button>\n",
       "\n",
       "  <style>\n",
       "    .colab-df-container {\n",
       "      display:flex;\n",
       "      gap: 12px;\n",
       "    }\n",
       "\n",
       "    .colab-df-convert {\n",
       "      background-color: #E8F0FE;\n",
       "      border: none;\n",
       "      border-radius: 50%;\n",
       "      cursor: pointer;\n",
       "      display: none;\n",
       "      fill: #1967D2;\n",
       "      height: 32px;\n",
       "      padding: 0 0 0 0;\n",
       "      width: 32px;\n",
       "    }\n",
       "\n",
       "    .colab-df-convert:hover {\n",
       "      background-color: #E2EBFA;\n",
       "      box-shadow: 0px 1px 2px rgba(60, 64, 67, 0.3), 0px 1px 3px 1px rgba(60, 64, 67, 0.15);\n",
       "      fill: #174EA6;\n",
       "    }\n",
       "\n",
       "    .colab-df-buttons div {\n",
       "      margin-bottom: 4px;\n",
       "    }\n",
       "\n",
       "    [theme=dark] .colab-df-convert {\n",
       "      background-color: #3B4455;\n",
       "      fill: #D2E3FC;\n",
       "    }\n",
       "\n",
       "    [theme=dark] .colab-df-convert:hover {\n",
       "      background-color: #434B5C;\n",
       "      box-shadow: 0px 1px 3px 1px rgba(0, 0, 0, 0.15);\n",
       "      filter: drop-shadow(0px 1px 2px rgba(0, 0, 0, 0.3));\n",
       "      fill: #FFFFFF;\n",
       "    }\n",
       "  </style>\n",
       "\n",
       "    <script>\n",
       "      const buttonEl =\n",
       "        document.querySelector('#df-fcec44e7-babb-4fef-b069-fb7da2c999e1 button.colab-df-convert');\n",
       "      buttonEl.style.display =\n",
       "        google.colab.kernel.accessAllowed ? 'block' : 'none';\n",
       "\n",
       "      async function convertToInteractive(key) {\n",
       "        const element = document.querySelector('#df-fcec44e7-babb-4fef-b069-fb7da2c999e1');\n",
       "        const dataTable =\n",
       "          await google.colab.kernel.invokeFunction('convertToInteractive',\n",
       "                                                    [key], {});\n",
       "        if (!dataTable) return;\n",
       "\n",
       "        const docLinkHtml = 'Like what you see? Visit the ' +\n",
       "          '<a target=\"_blank\" href=https://colab.research.google.com/notebooks/data_table.ipynb>data table notebook</a>'\n",
       "          + ' to learn more about interactive tables.';\n",
       "        element.innerHTML = '';\n",
       "        dataTable['output_type'] = 'display_data';\n",
       "        await google.colab.output.renderOutput(dataTable, element);\n",
       "        const docLink = document.createElement('div');\n",
       "        docLink.innerHTML = docLinkHtml;\n",
       "        element.appendChild(docLink);\n",
       "      }\n",
       "    </script>\n",
       "  </div>\n",
       "\n",
       "\n",
       "<div id=\"df-05092e7f-2960-4191-b39a-fcce20b82433\">\n",
       "  <button class=\"colab-df-quickchart\" onclick=\"quickchart('df-05092e7f-2960-4191-b39a-fcce20b82433')\"\n",
       "            title=\"Suggest charts.\"\n",
       "            style=\"display:none;\">\n",
       "\n",
       "<svg xmlns=\"http://www.w3.org/2000/svg\" height=\"24px\"viewBox=\"0 0 24 24\"\n",
       "     width=\"24px\">\n",
       "    <g>\n",
       "        <path d=\"M19 3H5c-1.1 0-2 .9-2 2v14c0 1.1.9 2 2 2h14c1.1 0 2-.9 2-2V5c0-1.1-.9-2-2-2zM9 17H7v-7h2v7zm4 0h-2V7h2v10zm4 0h-2v-4h2v4z\"/>\n",
       "    </g>\n",
       "</svg>\n",
       "  </button>\n",
       "\n",
       "<style>\n",
       "  .colab-df-quickchart {\n",
       "      --bg-color: #E8F0FE;\n",
       "      --fill-color: #1967D2;\n",
       "      --hover-bg-color: #E2EBFA;\n",
       "      --hover-fill-color: #174EA6;\n",
       "      --disabled-fill-color: #AAA;\n",
       "      --disabled-bg-color: #DDD;\n",
       "  }\n",
       "\n",
       "  [theme=dark] .colab-df-quickchart {\n",
       "      --bg-color: #3B4455;\n",
       "      --fill-color: #D2E3FC;\n",
       "      --hover-bg-color: #434B5C;\n",
       "      --hover-fill-color: #FFFFFF;\n",
       "      --disabled-bg-color: #3B4455;\n",
       "      --disabled-fill-color: #666;\n",
       "  }\n",
       "\n",
       "  .colab-df-quickchart {\n",
       "    background-color: var(--bg-color);\n",
       "    border: none;\n",
       "    border-radius: 50%;\n",
       "    cursor: pointer;\n",
       "    display: none;\n",
       "    fill: var(--fill-color);\n",
       "    height: 32px;\n",
       "    padding: 0;\n",
       "    width: 32px;\n",
       "  }\n",
       "\n",
       "  .colab-df-quickchart:hover {\n",
       "    background-color: var(--hover-bg-color);\n",
       "    box-shadow: 0 1px 2px rgba(60, 64, 67, 0.3), 0 1px 3px 1px rgba(60, 64, 67, 0.15);\n",
       "    fill: var(--button-hover-fill-color);\n",
       "  }\n",
       "\n",
       "  .colab-df-quickchart-complete:disabled,\n",
       "  .colab-df-quickchart-complete:disabled:hover {\n",
       "    background-color: var(--disabled-bg-color);\n",
       "    fill: var(--disabled-fill-color);\n",
       "    box-shadow: none;\n",
       "  }\n",
       "\n",
       "  .colab-df-spinner {\n",
       "    border: 2px solid var(--fill-color);\n",
       "    border-color: transparent;\n",
       "    border-bottom-color: var(--fill-color);\n",
       "    animation:\n",
       "      spin 1s steps(1) infinite;\n",
       "  }\n",
       "\n",
       "  @keyframes spin {\n",
       "    0% {\n",
       "      border-color: transparent;\n",
       "      border-bottom-color: var(--fill-color);\n",
       "      border-left-color: var(--fill-color);\n",
       "    }\n",
       "    20% {\n",
       "      border-color: transparent;\n",
       "      border-left-color: var(--fill-color);\n",
       "      border-top-color: var(--fill-color);\n",
       "    }\n",
       "    30% {\n",
       "      border-color: transparent;\n",
       "      border-left-color: var(--fill-color);\n",
       "      border-top-color: var(--fill-color);\n",
       "      border-right-color: var(--fill-color);\n",
       "    }\n",
       "    40% {\n",
       "      border-color: transparent;\n",
       "      border-right-color: var(--fill-color);\n",
       "      border-top-color: var(--fill-color);\n",
       "    }\n",
       "    60% {\n",
       "      border-color: transparent;\n",
       "      border-right-color: var(--fill-color);\n",
       "    }\n",
       "    80% {\n",
       "      border-color: transparent;\n",
       "      border-right-color: var(--fill-color);\n",
       "      border-bottom-color: var(--fill-color);\n",
       "    }\n",
       "    90% {\n",
       "      border-color: transparent;\n",
       "      border-bottom-color: var(--fill-color);\n",
       "    }\n",
       "  }\n",
       "</style>\n",
       "\n",
       "  <script>\n",
       "    async function quickchart(key) {\n",
       "      const quickchartButtonEl =\n",
       "        document.querySelector('#' + key + ' button');\n",
       "      quickchartButtonEl.disabled = true;  // To prevent multiple clicks.\n",
       "      quickchartButtonEl.classList.add('colab-df-spinner');\n",
       "      try {\n",
       "        const charts = await google.colab.kernel.invokeFunction(\n",
       "            'suggestCharts', [key], {});\n",
       "      } catch (error) {\n",
       "        console.error('Error during call to suggestCharts:', error);\n",
       "      }\n",
       "      quickchartButtonEl.classList.remove('colab-df-spinner');\n",
       "      quickchartButtonEl.classList.add('colab-df-quickchart-complete');\n",
       "    }\n",
       "    (() => {\n",
       "      let quickchartButtonEl =\n",
       "        document.querySelector('#df-05092e7f-2960-4191-b39a-fcce20b82433 button');\n",
       "      quickchartButtonEl.style.display =\n",
       "        google.colab.kernel.accessAllowed ? 'block' : 'none';\n",
       "    })();\n",
       "  </script>\n",
       "</div>\n",
       "    </div>\n",
       "  </div>\n"
      ],
      "text/plain": [
       "       total_words  content_word  exclamation_marks  capital_words  \\\n",
       "0              885           730                  0             10   \n",
       "1              713           606                  0              8   \n",
       "2              523           457                  0              6   \n",
       "3              437           373                  0              5   \n",
       "4              987           820                  1             15   \n",
       "...            ...           ...                ...            ...   \n",
       "21412          505           440                  0             14   \n",
       "21413          142           123                  0              1   \n",
       "21414          358           307                  0              4   \n",
       "21415          224           202                  0              1   \n",
       "21416          233           201                  0              3   \n",
       "\n",
       "       total_punctuations  \n",
       "0                      94  \n",
       "1                      56  \n",
       "2                      41  \n",
       "3                      42  \n",
       "4                     111  \n",
       "...                   ...  \n",
       "21412                  47  \n",
       "21413                  18  \n",
       "21414                  40  \n",
       "21415                  20  \n",
       "21416                  25  \n",
       "\n",
       "[21417 rows x 5 columns]"
      ]
     },
     "execution_count": 47,
     "metadata": {},
     "output_type": "execute_result"
    }
   ],
   "source": [
    "t_df #created a data frame with the above 5 variables mentioned above for true data set"
   ]
  },
  {
   "cell_type": "code",
   "execution_count": 48,
   "id": "e6f954b6",
   "metadata": {
    "id": "e6f954b6"
   },
   "outputs": [],
   "source": [
    "true_final_df = pd.concat([df,t_df], axis = 1) #merged the initial true data set with the the data set created above"
   ]
  },
  {
   "cell_type": "code",
   "execution_count": 49,
   "id": "66e10ecb",
   "metadata": {
    "colab": {
     "base_uri": "https://localhost:8080/",
     "height": 719
    },
    "id": "66e10ecb",
    "outputId": "346fc506-8f3a-4f35-d670-c584296dd237"
   },
   "outputs": [
    {
     "data": {
      "text/html": [
       "\n",
       "  <div id=\"df-e12bf06e-9238-448d-abba-30afa981a224\" class=\"colab-df-container\">\n",
       "    <div>\n",
       "<style scoped>\n",
       "    .dataframe tbody tr th:only-of-type {\n",
       "        vertical-align: middle;\n",
       "    }\n",
       "\n",
       "    .dataframe tbody tr th {\n",
       "        vertical-align: top;\n",
       "    }\n",
       "\n",
       "    .dataframe thead th {\n",
       "        text-align: right;\n",
       "    }\n",
       "</style>\n",
       "<table border=\"1\" class=\"dataframe\">\n",
       "  <thead>\n",
       "    <tr style=\"text-align: right;\">\n",
       "      <th></th>\n",
       "      <th>title</th>\n",
       "      <th>text</th>\n",
       "      <th>subject</th>\n",
       "      <th>date</th>\n",
       "      <th>total_words</th>\n",
       "      <th>content_word</th>\n",
       "      <th>exclamation_marks</th>\n",
       "      <th>capital_words</th>\n",
       "      <th>total_punctuations</th>\n",
       "    </tr>\n",
       "  </thead>\n",
       "  <tbody>\n",
       "    <tr>\n",
       "      <th>0</th>\n",
       "      <td>As U.S. budget fight looms, Republicans flip t...</td>\n",
       "      <td>WASHINGTON (Reuters) - The head of a conservat...</td>\n",
       "      <td>politicsNews</td>\n",
       "      <td>December 31, 2017</td>\n",
       "      <td>885</td>\n",
       "      <td>730</td>\n",
       "      <td>0</td>\n",
       "      <td>10</td>\n",
       "      <td>94</td>\n",
       "    </tr>\n",
       "    <tr>\n",
       "      <th>1</th>\n",
       "      <td>U.S. military to accept transgender recruits o...</td>\n",
       "      <td>WASHINGTON (Reuters) - Transgender people will...</td>\n",
       "      <td>politicsNews</td>\n",
       "      <td>December 29, 2017</td>\n",
       "      <td>713</td>\n",
       "      <td>606</td>\n",
       "      <td>0</td>\n",
       "      <td>8</td>\n",
       "      <td>56</td>\n",
       "    </tr>\n",
       "    <tr>\n",
       "      <th>2</th>\n",
       "      <td>Senior U.S. Republican senator: 'Let Mr. Muell...</td>\n",
       "      <td>WASHINGTON (Reuters) - The special counsel inv...</td>\n",
       "      <td>politicsNews</td>\n",
       "      <td>December 31, 2017</td>\n",
       "      <td>523</td>\n",
       "      <td>457</td>\n",
       "      <td>0</td>\n",
       "      <td>6</td>\n",
       "      <td>41</td>\n",
       "    </tr>\n",
       "    <tr>\n",
       "      <th>3</th>\n",
       "      <td>FBI Russia probe helped by Australian diplomat...</td>\n",
       "      <td>WASHINGTON (Reuters) - Trump campaign adviser ...</td>\n",
       "      <td>politicsNews</td>\n",
       "      <td>December 30, 2017</td>\n",
       "      <td>437</td>\n",
       "      <td>373</td>\n",
       "      <td>0</td>\n",
       "      <td>5</td>\n",
       "      <td>42</td>\n",
       "    </tr>\n",
       "    <tr>\n",
       "      <th>4</th>\n",
       "      <td>Trump wants Postal Service to charge 'much mor...</td>\n",
       "      <td>SEATTLE/WASHINGTON (Reuters) - President Donal...</td>\n",
       "      <td>politicsNews</td>\n",
       "      <td>December 29, 2017</td>\n",
       "      <td>987</td>\n",
       "      <td>820</td>\n",
       "      <td>1</td>\n",
       "      <td>15</td>\n",
       "      <td>111</td>\n",
       "    </tr>\n",
       "    <tr>\n",
       "      <th>...</th>\n",
       "      <td>...</td>\n",
       "      <td>...</td>\n",
       "      <td>...</td>\n",
       "      <td>...</td>\n",
       "      <td>...</td>\n",
       "      <td>...</td>\n",
       "      <td>...</td>\n",
       "      <td>...</td>\n",
       "      <td>...</td>\n",
       "    </tr>\n",
       "    <tr>\n",
       "      <th>21412</th>\n",
       "      <td>'Fully committed' NATO backs new U.S. approach...</td>\n",
       "      <td>BRUSSELS (Reuters) - NATO allies on Tuesday we...</td>\n",
       "      <td>worldnews</td>\n",
       "      <td>August 22, 2017</td>\n",
       "      <td>505</td>\n",
       "      <td>440</td>\n",
       "      <td>0</td>\n",
       "      <td>14</td>\n",
       "      <td>47</td>\n",
       "    </tr>\n",
       "    <tr>\n",
       "      <th>21413</th>\n",
       "      <td>LexisNexis withdrew two products from Chinese ...</td>\n",
       "      <td>LONDON (Reuters) - LexisNexis, a provider of l...</td>\n",
       "      <td>worldnews</td>\n",
       "      <td>August 22, 2017</td>\n",
       "      <td>142</td>\n",
       "      <td>123</td>\n",
       "      <td>0</td>\n",
       "      <td>1</td>\n",
       "      <td>18</td>\n",
       "    </tr>\n",
       "    <tr>\n",
       "      <th>21414</th>\n",
       "      <td>Minsk cultural hub becomes haven from authorities</td>\n",
       "      <td>MINSK (Reuters) - In the shadow of disused Sov...</td>\n",
       "      <td>worldnews</td>\n",
       "      <td>August 22, 2017</td>\n",
       "      <td>358</td>\n",
       "      <td>307</td>\n",
       "      <td>0</td>\n",
       "      <td>4</td>\n",
       "      <td>40</td>\n",
       "    </tr>\n",
       "    <tr>\n",
       "      <th>21415</th>\n",
       "      <td>Vatican upbeat on possibility of Pope Francis ...</td>\n",
       "      <td>MOSCOW (Reuters) - Vatican Secretary of State ...</td>\n",
       "      <td>worldnews</td>\n",
       "      <td>August 22, 2017</td>\n",
       "      <td>224</td>\n",
       "      <td>202</td>\n",
       "      <td>0</td>\n",
       "      <td>1</td>\n",
       "      <td>20</td>\n",
       "    </tr>\n",
       "    <tr>\n",
       "      <th>21416</th>\n",
       "      <td>Indonesia to buy $1.14 billion worth of Russia...</td>\n",
       "      <td>JAKARTA (Reuters) - Indonesia will buy 11 Sukh...</td>\n",
       "      <td>worldnews</td>\n",
       "      <td>August 22, 2017</td>\n",
       "      <td>233</td>\n",
       "      <td>201</td>\n",
       "      <td>0</td>\n",
       "      <td>3</td>\n",
       "      <td>25</td>\n",
       "    </tr>\n",
       "  </tbody>\n",
       "</table>\n",
       "<p>21417 rows × 9 columns</p>\n",
       "</div>\n",
       "    <div class=\"colab-df-buttons\">\n",
       "\n",
       "  <div class=\"colab-df-container\">\n",
       "    <button class=\"colab-df-convert\" onclick=\"convertToInteractive('df-e12bf06e-9238-448d-abba-30afa981a224')\"\n",
       "            title=\"Convert this dataframe to an interactive table.\"\n",
       "            style=\"display:none;\">\n",
       "\n",
       "  <svg xmlns=\"http://www.w3.org/2000/svg\" height=\"24px\" viewBox=\"0 -960 960 960\">\n",
       "    <path d=\"M120-120v-720h720v720H120Zm60-500h600v-160H180v160Zm220 220h160v-160H400v160Zm0 220h160v-160H400v160ZM180-400h160v-160H180v160Zm440 0h160v-160H620v160ZM180-180h160v-160H180v160Zm440 0h160v-160H620v160Z\"/>\n",
       "  </svg>\n",
       "    </button>\n",
       "\n",
       "  <style>\n",
       "    .colab-df-container {\n",
       "      display:flex;\n",
       "      gap: 12px;\n",
       "    }\n",
       "\n",
       "    .colab-df-convert {\n",
       "      background-color: #E8F0FE;\n",
       "      border: none;\n",
       "      border-radius: 50%;\n",
       "      cursor: pointer;\n",
       "      display: none;\n",
       "      fill: #1967D2;\n",
       "      height: 32px;\n",
       "      padding: 0 0 0 0;\n",
       "      width: 32px;\n",
       "    }\n",
       "\n",
       "    .colab-df-convert:hover {\n",
       "      background-color: #E2EBFA;\n",
       "      box-shadow: 0px 1px 2px rgba(60, 64, 67, 0.3), 0px 1px 3px 1px rgba(60, 64, 67, 0.15);\n",
       "      fill: #174EA6;\n",
       "    }\n",
       "\n",
       "    .colab-df-buttons div {\n",
       "      margin-bottom: 4px;\n",
       "    }\n",
       "\n",
       "    [theme=dark] .colab-df-convert {\n",
       "      background-color: #3B4455;\n",
       "      fill: #D2E3FC;\n",
       "    }\n",
       "\n",
       "    [theme=dark] .colab-df-convert:hover {\n",
       "      background-color: #434B5C;\n",
       "      box-shadow: 0px 1px 3px 1px rgba(0, 0, 0, 0.15);\n",
       "      filter: drop-shadow(0px 1px 2px rgba(0, 0, 0, 0.3));\n",
       "      fill: #FFFFFF;\n",
       "    }\n",
       "  </style>\n",
       "\n",
       "    <script>\n",
       "      const buttonEl =\n",
       "        document.querySelector('#df-e12bf06e-9238-448d-abba-30afa981a224 button.colab-df-convert');\n",
       "      buttonEl.style.display =\n",
       "        google.colab.kernel.accessAllowed ? 'block' : 'none';\n",
       "\n",
       "      async function convertToInteractive(key) {\n",
       "        const element = document.querySelector('#df-e12bf06e-9238-448d-abba-30afa981a224');\n",
       "        const dataTable =\n",
       "          await google.colab.kernel.invokeFunction('convertToInteractive',\n",
       "                                                    [key], {});\n",
       "        if (!dataTable) return;\n",
       "\n",
       "        const docLinkHtml = 'Like what you see? Visit the ' +\n",
       "          '<a target=\"_blank\" href=https://colab.research.google.com/notebooks/data_table.ipynb>data table notebook</a>'\n",
       "          + ' to learn more about interactive tables.';\n",
       "        element.innerHTML = '';\n",
       "        dataTable['output_type'] = 'display_data';\n",
       "        await google.colab.output.renderOutput(dataTable, element);\n",
       "        const docLink = document.createElement('div');\n",
       "        docLink.innerHTML = docLinkHtml;\n",
       "        element.appendChild(docLink);\n",
       "      }\n",
       "    </script>\n",
       "  </div>\n",
       "\n",
       "\n",
       "<div id=\"df-d1d2eefc-adc5-4491-a82d-ef9d3c2c1351\">\n",
       "  <button class=\"colab-df-quickchart\" onclick=\"quickchart('df-d1d2eefc-adc5-4491-a82d-ef9d3c2c1351')\"\n",
       "            title=\"Suggest charts.\"\n",
       "            style=\"display:none;\">\n",
       "\n",
       "<svg xmlns=\"http://www.w3.org/2000/svg\" height=\"24px\"viewBox=\"0 0 24 24\"\n",
       "     width=\"24px\">\n",
       "    <g>\n",
       "        <path d=\"M19 3H5c-1.1 0-2 .9-2 2v14c0 1.1.9 2 2 2h14c1.1 0 2-.9 2-2V5c0-1.1-.9-2-2-2zM9 17H7v-7h2v7zm4 0h-2V7h2v10zm4 0h-2v-4h2v4z\"/>\n",
       "    </g>\n",
       "</svg>\n",
       "  </button>\n",
       "\n",
       "<style>\n",
       "  .colab-df-quickchart {\n",
       "      --bg-color: #E8F0FE;\n",
       "      --fill-color: #1967D2;\n",
       "      --hover-bg-color: #E2EBFA;\n",
       "      --hover-fill-color: #174EA6;\n",
       "      --disabled-fill-color: #AAA;\n",
       "      --disabled-bg-color: #DDD;\n",
       "  }\n",
       "\n",
       "  [theme=dark] .colab-df-quickchart {\n",
       "      --bg-color: #3B4455;\n",
       "      --fill-color: #D2E3FC;\n",
       "      --hover-bg-color: #434B5C;\n",
       "      --hover-fill-color: #FFFFFF;\n",
       "      --disabled-bg-color: #3B4455;\n",
       "      --disabled-fill-color: #666;\n",
       "  }\n",
       "\n",
       "  .colab-df-quickchart {\n",
       "    background-color: var(--bg-color);\n",
       "    border: none;\n",
       "    border-radius: 50%;\n",
       "    cursor: pointer;\n",
       "    display: none;\n",
       "    fill: var(--fill-color);\n",
       "    height: 32px;\n",
       "    padding: 0;\n",
       "    width: 32px;\n",
       "  }\n",
       "\n",
       "  .colab-df-quickchart:hover {\n",
       "    background-color: var(--hover-bg-color);\n",
       "    box-shadow: 0 1px 2px rgba(60, 64, 67, 0.3), 0 1px 3px 1px rgba(60, 64, 67, 0.15);\n",
       "    fill: var(--button-hover-fill-color);\n",
       "  }\n",
       "\n",
       "  .colab-df-quickchart-complete:disabled,\n",
       "  .colab-df-quickchart-complete:disabled:hover {\n",
       "    background-color: var(--disabled-bg-color);\n",
       "    fill: var(--disabled-fill-color);\n",
       "    box-shadow: none;\n",
       "  }\n",
       "\n",
       "  .colab-df-spinner {\n",
       "    border: 2px solid var(--fill-color);\n",
       "    border-color: transparent;\n",
       "    border-bottom-color: var(--fill-color);\n",
       "    animation:\n",
       "      spin 1s steps(1) infinite;\n",
       "  }\n",
       "\n",
       "  @keyframes spin {\n",
       "    0% {\n",
       "      border-color: transparent;\n",
       "      border-bottom-color: var(--fill-color);\n",
       "      border-left-color: var(--fill-color);\n",
       "    }\n",
       "    20% {\n",
       "      border-color: transparent;\n",
       "      border-left-color: var(--fill-color);\n",
       "      border-top-color: var(--fill-color);\n",
       "    }\n",
       "    30% {\n",
       "      border-color: transparent;\n",
       "      border-left-color: var(--fill-color);\n",
       "      border-top-color: var(--fill-color);\n",
       "      border-right-color: var(--fill-color);\n",
       "    }\n",
       "    40% {\n",
       "      border-color: transparent;\n",
       "      border-right-color: var(--fill-color);\n",
       "      border-top-color: var(--fill-color);\n",
       "    }\n",
       "    60% {\n",
       "      border-color: transparent;\n",
       "      border-right-color: var(--fill-color);\n",
       "    }\n",
       "    80% {\n",
       "      border-color: transparent;\n",
       "      border-right-color: var(--fill-color);\n",
       "      border-bottom-color: var(--fill-color);\n",
       "    }\n",
       "    90% {\n",
       "      border-color: transparent;\n",
       "      border-bottom-color: var(--fill-color);\n",
       "    }\n",
       "  }\n",
       "</style>\n",
       "\n",
       "  <script>\n",
       "    async function quickchart(key) {\n",
       "      const quickchartButtonEl =\n",
       "        document.querySelector('#' + key + ' button');\n",
       "      quickchartButtonEl.disabled = true;  // To prevent multiple clicks.\n",
       "      quickchartButtonEl.classList.add('colab-df-spinner');\n",
       "      try {\n",
       "        const charts = await google.colab.kernel.invokeFunction(\n",
       "            'suggestCharts', [key], {});\n",
       "      } catch (error) {\n",
       "        console.error('Error during call to suggestCharts:', error);\n",
       "      }\n",
       "      quickchartButtonEl.classList.remove('colab-df-spinner');\n",
       "      quickchartButtonEl.classList.add('colab-df-quickchart-complete');\n",
       "    }\n",
       "    (() => {\n",
       "      let quickchartButtonEl =\n",
       "        document.querySelector('#df-d1d2eefc-adc5-4491-a82d-ef9d3c2c1351 button');\n",
       "      quickchartButtonEl.style.display =\n",
       "        google.colab.kernel.accessAllowed ? 'block' : 'none';\n",
       "    })();\n",
       "  </script>\n",
       "</div>\n",
       "    </div>\n",
       "  </div>\n"
      ],
      "text/plain": [
       "                                                   title  \\\n",
       "0      As U.S. budget fight looms, Republicans flip t...   \n",
       "1      U.S. military to accept transgender recruits o...   \n",
       "2      Senior U.S. Republican senator: 'Let Mr. Muell...   \n",
       "3      FBI Russia probe helped by Australian diplomat...   \n",
       "4      Trump wants Postal Service to charge 'much mor...   \n",
       "...                                                  ...   \n",
       "21412  'Fully committed' NATO backs new U.S. approach...   \n",
       "21413  LexisNexis withdrew two products from Chinese ...   \n",
       "21414  Minsk cultural hub becomes haven from authorities   \n",
       "21415  Vatican upbeat on possibility of Pope Francis ...   \n",
       "21416  Indonesia to buy $1.14 billion worth of Russia...   \n",
       "\n",
       "                                                    text       subject  \\\n",
       "0      WASHINGTON (Reuters) - The head of a conservat...  politicsNews   \n",
       "1      WASHINGTON (Reuters) - Transgender people will...  politicsNews   \n",
       "2      WASHINGTON (Reuters) - The special counsel inv...  politicsNews   \n",
       "3      WASHINGTON (Reuters) - Trump campaign adviser ...  politicsNews   \n",
       "4      SEATTLE/WASHINGTON (Reuters) - President Donal...  politicsNews   \n",
       "...                                                  ...           ...   \n",
       "21412  BRUSSELS (Reuters) - NATO allies on Tuesday we...     worldnews   \n",
       "21413  LONDON (Reuters) - LexisNexis, a provider of l...     worldnews   \n",
       "21414  MINSK (Reuters) - In the shadow of disused Sov...     worldnews   \n",
       "21415  MOSCOW (Reuters) - Vatican Secretary of State ...     worldnews   \n",
       "21416  JAKARTA (Reuters) - Indonesia will buy 11 Sukh...     worldnews   \n",
       "\n",
       "                     date  total_words  content_word  exclamation_marks  \\\n",
       "0      December 31, 2017           885           730                  0   \n",
       "1      December 29, 2017           713           606                  0   \n",
       "2      December 31, 2017           523           457                  0   \n",
       "3      December 30, 2017           437           373                  0   \n",
       "4      December 29, 2017           987           820                  1   \n",
       "...                   ...          ...           ...                ...   \n",
       "21412    August 22, 2017           505           440                  0   \n",
       "21413    August 22, 2017           142           123                  0   \n",
       "21414    August 22, 2017           358           307                  0   \n",
       "21415    August 22, 2017           224           202                  0   \n",
       "21416    August 22, 2017           233           201                  0   \n",
       "\n",
       "       capital_words  total_punctuations  \n",
       "0                 10                  94  \n",
       "1                  8                  56  \n",
       "2                  6                  41  \n",
       "3                  5                  42  \n",
       "4                 15                 111  \n",
       "...              ...                 ...  \n",
       "21412             14                  47  \n",
       "21413              1                  18  \n",
       "21414              4                  40  \n",
       "21415              1                  20  \n",
       "21416              3                  25  \n",
       "\n",
       "[21417 rows x 9 columns]"
      ]
     },
     "execution_count": 49,
     "metadata": {},
     "output_type": "execute_result"
    }
   ],
   "source": [
    "true_final_df"
   ]
  },
  {
   "cell_type": "code",
   "execution_count": 50,
   "id": "d50b57e6",
   "metadata": {
    "id": "d50b57e6"
   },
   "outputs": [],
   "source": [
    "val1 = []\n",
    "\n",
    "for tokens in fake_tokens0:\n",
    "    f_content_words = [token for token in tokens if token.isalpha()]\n",
    "    f_capital_words = sum(1 for token in tokens if token.isupper() and token != 'I')\n",
    "    f_exclamation_marks = tokens.count('!')\n",
    "    f_total_punctuations = sum(1 for token in tokens if token in string.punctuation)\n",
    "    f_total_words = len(tokens)\n",
    "\n",
    "    val1.append([f_total_words, len(f_content_words), f_exclamation_marks, f_capital_words, f_total_punctuations])\n",
    "\n",
    "f_df = pd.DataFrame(val1, columns=['f_total_words', 'f_content_word', 'f_exclamation_marks', 'f_capital_words', 'f_total_punctuations'])"
   ]
  },
  {
   "cell_type": "code",
   "execution_count": 51,
   "id": "060e07ad",
   "metadata": {
    "colab": {
     "base_uri": "https://localhost:8080/",
     "height": 424
    },
    "id": "060e07ad",
    "outputId": "6b993270-a766-4667-940a-5dfbe40a91a5"
   },
   "outputs": [
    {
     "data": {
      "text/html": [
       "\n",
       "  <div id=\"df-b148fff8-8fad-4c0f-a688-a893244ec8cd\" class=\"colab-df-container\">\n",
       "    <div>\n",
       "<style scoped>\n",
       "    .dataframe tbody tr th:only-of-type {\n",
       "        vertical-align: middle;\n",
       "    }\n",
       "\n",
       "    .dataframe tbody tr th {\n",
       "        vertical-align: top;\n",
       "    }\n",
       "\n",
       "    .dataframe thead th {\n",
       "        text-align: right;\n",
       "    }\n",
       "</style>\n",
       "<table border=\"1\" class=\"dataframe\">\n",
       "  <thead>\n",
       "    <tr style=\"text-align: right;\">\n",
       "      <th></th>\n",
       "      <th>f_total_words</th>\n",
       "      <th>f_content_word</th>\n",
       "      <th>f_exclamation_marks</th>\n",
       "      <th>f_capital_words</th>\n",
       "      <th>f_total_punctuations</th>\n",
       "    </tr>\n",
       "  </thead>\n",
       "  <tbody>\n",
       "    <tr>\n",
       "      <th>0</th>\n",
       "      <td>599</td>\n",
       "      <td>447</td>\n",
       "      <td>6</td>\n",
       "      <td>2</td>\n",
       "      <td>107</td>\n",
       "    </tr>\n",
       "    <tr>\n",
       "      <th>1</th>\n",
       "      <td>331</td>\n",
       "      <td>292</td>\n",
       "      <td>0</td>\n",
       "      <td>3</td>\n",
       "      <td>26</td>\n",
       "    </tr>\n",
       "    <tr>\n",
       "      <th>2</th>\n",
       "      <td>689</td>\n",
       "      <td>526</td>\n",
       "      <td>2</td>\n",
       "      <td>33</td>\n",
       "      <td>109</td>\n",
       "    </tr>\n",
       "    <tr>\n",
       "      <th>3</th>\n",
       "      <td>519</td>\n",
       "      <td>401</td>\n",
       "      <td>0</td>\n",
       "      <td>4</td>\n",
       "      <td>73</td>\n",
       "    </tr>\n",
       "    <tr>\n",
       "      <th>4</th>\n",
       "      <td>458</td>\n",
       "      <td>418</td>\n",
       "      <td>0</td>\n",
       "      <td>0</td>\n",
       "      <td>38</td>\n",
       "    </tr>\n",
       "    <tr>\n",
       "      <th>...</th>\n",
       "      <td>...</td>\n",
       "      <td>...</td>\n",
       "      <td>...</td>\n",
       "      <td>...</td>\n",
       "      <td>...</td>\n",
       "    </tr>\n",
       "    <tr>\n",
       "      <th>23476</th>\n",
       "      <td>553</td>\n",
       "      <td>501</td>\n",
       "      <td>0</td>\n",
       "      <td>19</td>\n",
       "      <td>30</td>\n",
       "    </tr>\n",
       "    <tr>\n",
       "      <th>23477</th>\n",
       "      <td>333</td>\n",
       "      <td>284</td>\n",
       "      <td>0</td>\n",
       "      <td>8</td>\n",
       "      <td>35</td>\n",
       "    </tr>\n",
       "    <tr>\n",
       "      <th>23478</th>\n",
       "      <td>4591</td>\n",
       "      <td>4037</td>\n",
       "      <td>1</td>\n",
       "      <td>89</td>\n",
       "      <td>420</td>\n",
       "    </tr>\n",
       "    <tr>\n",
       "      <th>23479</th>\n",
       "      <td>508</td>\n",
       "      <td>430</td>\n",
       "      <td>0</td>\n",
       "      <td>22</td>\n",
       "      <td>50</td>\n",
       "    </tr>\n",
       "    <tr>\n",
       "      <th>23480</th>\n",
       "      <td>981</td>\n",
       "      <td>835</td>\n",
       "      <td>0</td>\n",
       "      <td>41</td>\n",
       "      <td>106</td>\n",
       "    </tr>\n",
       "  </tbody>\n",
       "</table>\n",
       "<p>23481 rows × 5 columns</p>\n",
       "</div>\n",
       "    <div class=\"colab-df-buttons\">\n",
       "\n",
       "  <div class=\"colab-df-container\">\n",
       "    <button class=\"colab-df-convert\" onclick=\"convertToInteractive('df-b148fff8-8fad-4c0f-a688-a893244ec8cd')\"\n",
       "            title=\"Convert this dataframe to an interactive table.\"\n",
       "            style=\"display:none;\">\n",
       "\n",
       "  <svg xmlns=\"http://www.w3.org/2000/svg\" height=\"24px\" viewBox=\"0 -960 960 960\">\n",
       "    <path d=\"M120-120v-720h720v720H120Zm60-500h600v-160H180v160Zm220 220h160v-160H400v160Zm0 220h160v-160H400v160ZM180-400h160v-160H180v160Zm440 0h160v-160H620v160ZM180-180h160v-160H180v160Zm440 0h160v-160H620v160Z\"/>\n",
       "  </svg>\n",
       "    </button>\n",
       "\n",
       "  <style>\n",
       "    .colab-df-container {\n",
       "      display:flex;\n",
       "      gap: 12px;\n",
       "    }\n",
       "\n",
       "    .colab-df-convert {\n",
       "      background-color: #E8F0FE;\n",
       "      border: none;\n",
       "      border-radius: 50%;\n",
       "      cursor: pointer;\n",
       "      display: none;\n",
       "      fill: #1967D2;\n",
       "      height: 32px;\n",
       "      padding: 0 0 0 0;\n",
       "      width: 32px;\n",
       "    }\n",
       "\n",
       "    .colab-df-convert:hover {\n",
       "      background-color: #E2EBFA;\n",
       "      box-shadow: 0px 1px 2px rgba(60, 64, 67, 0.3), 0px 1px 3px 1px rgba(60, 64, 67, 0.15);\n",
       "      fill: #174EA6;\n",
       "    }\n",
       "\n",
       "    .colab-df-buttons div {\n",
       "      margin-bottom: 4px;\n",
       "    }\n",
       "\n",
       "    [theme=dark] .colab-df-convert {\n",
       "      background-color: #3B4455;\n",
       "      fill: #D2E3FC;\n",
       "    }\n",
       "\n",
       "    [theme=dark] .colab-df-convert:hover {\n",
       "      background-color: #434B5C;\n",
       "      box-shadow: 0px 1px 3px 1px rgba(0, 0, 0, 0.15);\n",
       "      filter: drop-shadow(0px 1px 2px rgba(0, 0, 0, 0.3));\n",
       "      fill: #FFFFFF;\n",
       "    }\n",
       "  </style>\n",
       "\n",
       "    <script>\n",
       "      const buttonEl =\n",
       "        document.querySelector('#df-b148fff8-8fad-4c0f-a688-a893244ec8cd button.colab-df-convert');\n",
       "      buttonEl.style.display =\n",
       "        google.colab.kernel.accessAllowed ? 'block' : 'none';\n",
       "\n",
       "      async function convertToInteractive(key) {\n",
       "        const element = document.querySelector('#df-b148fff8-8fad-4c0f-a688-a893244ec8cd');\n",
       "        const dataTable =\n",
       "          await google.colab.kernel.invokeFunction('convertToInteractive',\n",
       "                                                    [key], {});\n",
       "        if (!dataTable) return;\n",
       "\n",
       "        const docLinkHtml = 'Like what you see? Visit the ' +\n",
       "          '<a target=\"_blank\" href=https://colab.research.google.com/notebooks/data_table.ipynb>data table notebook</a>'\n",
       "          + ' to learn more about interactive tables.';\n",
       "        element.innerHTML = '';\n",
       "        dataTable['output_type'] = 'display_data';\n",
       "        await google.colab.output.renderOutput(dataTable, element);\n",
       "        const docLink = document.createElement('div');\n",
       "        docLink.innerHTML = docLinkHtml;\n",
       "        element.appendChild(docLink);\n",
       "      }\n",
       "    </script>\n",
       "  </div>\n",
       "\n",
       "\n",
       "<div id=\"df-beca27ca-6be0-4fda-bdae-4b80a786b5d2\">\n",
       "  <button class=\"colab-df-quickchart\" onclick=\"quickchart('df-beca27ca-6be0-4fda-bdae-4b80a786b5d2')\"\n",
       "            title=\"Suggest charts.\"\n",
       "            style=\"display:none;\">\n",
       "\n",
       "<svg xmlns=\"http://www.w3.org/2000/svg\" height=\"24px\"viewBox=\"0 0 24 24\"\n",
       "     width=\"24px\">\n",
       "    <g>\n",
       "        <path d=\"M19 3H5c-1.1 0-2 .9-2 2v14c0 1.1.9 2 2 2h14c1.1 0 2-.9 2-2V5c0-1.1-.9-2-2-2zM9 17H7v-7h2v7zm4 0h-2V7h2v10zm4 0h-2v-4h2v4z\"/>\n",
       "    </g>\n",
       "</svg>\n",
       "  </button>\n",
       "\n",
       "<style>\n",
       "  .colab-df-quickchart {\n",
       "      --bg-color: #E8F0FE;\n",
       "      --fill-color: #1967D2;\n",
       "      --hover-bg-color: #E2EBFA;\n",
       "      --hover-fill-color: #174EA6;\n",
       "      --disabled-fill-color: #AAA;\n",
       "      --disabled-bg-color: #DDD;\n",
       "  }\n",
       "\n",
       "  [theme=dark] .colab-df-quickchart {\n",
       "      --bg-color: #3B4455;\n",
       "      --fill-color: #D2E3FC;\n",
       "      --hover-bg-color: #434B5C;\n",
       "      --hover-fill-color: #FFFFFF;\n",
       "      --disabled-bg-color: #3B4455;\n",
       "      --disabled-fill-color: #666;\n",
       "  }\n",
       "\n",
       "  .colab-df-quickchart {\n",
       "    background-color: var(--bg-color);\n",
       "    border: none;\n",
       "    border-radius: 50%;\n",
       "    cursor: pointer;\n",
       "    display: none;\n",
       "    fill: var(--fill-color);\n",
       "    height: 32px;\n",
       "    padding: 0;\n",
       "    width: 32px;\n",
       "  }\n",
       "\n",
       "  .colab-df-quickchart:hover {\n",
       "    background-color: var(--hover-bg-color);\n",
       "    box-shadow: 0 1px 2px rgba(60, 64, 67, 0.3), 0 1px 3px 1px rgba(60, 64, 67, 0.15);\n",
       "    fill: var(--button-hover-fill-color);\n",
       "  }\n",
       "\n",
       "  .colab-df-quickchart-complete:disabled,\n",
       "  .colab-df-quickchart-complete:disabled:hover {\n",
       "    background-color: var(--disabled-bg-color);\n",
       "    fill: var(--disabled-fill-color);\n",
       "    box-shadow: none;\n",
       "  }\n",
       "\n",
       "  .colab-df-spinner {\n",
       "    border: 2px solid var(--fill-color);\n",
       "    border-color: transparent;\n",
       "    border-bottom-color: var(--fill-color);\n",
       "    animation:\n",
       "      spin 1s steps(1) infinite;\n",
       "  }\n",
       "\n",
       "  @keyframes spin {\n",
       "    0% {\n",
       "      border-color: transparent;\n",
       "      border-bottom-color: var(--fill-color);\n",
       "      border-left-color: var(--fill-color);\n",
       "    }\n",
       "    20% {\n",
       "      border-color: transparent;\n",
       "      border-left-color: var(--fill-color);\n",
       "      border-top-color: var(--fill-color);\n",
       "    }\n",
       "    30% {\n",
       "      border-color: transparent;\n",
       "      border-left-color: var(--fill-color);\n",
       "      border-top-color: var(--fill-color);\n",
       "      border-right-color: var(--fill-color);\n",
       "    }\n",
       "    40% {\n",
       "      border-color: transparent;\n",
       "      border-right-color: var(--fill-color);\n",
       "      border-top-color: var(--fill-color);\n",
       "    }\n",
       "    60% {\n",
       "      border-color: transparent;\n",
       "      border-right-color: var(--fill-color);\n",
       "    }\n",
       "    80% {\n",
       "      border-color: transparent;\n",
       "      border-right-color: var(--fill-color);\n",
       "      border-bottom-color: var(--fill-color);\n",
       "    }\n",
       "    90% {\n",
       "      border-color: transparent;\n",
       "      border-bottom-color: var(--fill-color);\n",
       "    }\n",
       "  }\n",
       "</style>\n",
       "\n",
       "  <script>\n",
       "    async function quickchart(key) {\n",
       "      const quickchartButtonEl =\n",
       "        document.querySelector('#' + key + ' button');\n",
       "      quickchartButtonEl.disabled = true;  // To prevent multiple clicks.\n",
       "      quickchartButtonEl.classList.add('colab-df-spinner');\n",
       "      try {\n",
       "        const charts = await google.colab.kernel.invokeFunction(\n",
       "            'suggestCharts', [key], {});\n",
       "      } catch (error) {\n",
       "        console.error('Error during call to suggestCharts:', error);\n",
       "      }\n",
       "      quickchartButtonEl.classList.remove('colab-df-spinner');\n",
       "      quickchartButtonEl.classList.add('colab-df-quickchart-complete');\n",
       "    }\n",
       "    (() => {\n",
       "      let quickchartButtonEl =\n",
       "        document.querySelector('#df-beca27ca-6be0-4fda-bdae-4b80a786b5d2 button');\n",
       "      quickchartButtonEl.style.display =\n",
       "        google.colab.kernel.accessAllowed ? 'block' : 'none';\n",
       "    })();\n",
       "  </script>\n",
       "</div>\n",
       "    </div>\n",
       "  </div>\n"
      ],
      "text/plain": [
       "       f_total_words  f_content_word  f_exclamation_marks  f_capital_words  \\\n",
       "0                599             447                    6                2   \n",
       "1                331             292                    0                3   \n",
       "2                689             526                    2               33   \n",
       "3                519             401                    0                4   \n",
       "4                458             418                    0                0   \n",
       "...              ...             ...                  ...              ...   \n",
       "23476            553             501                    0               19   \n",
       "23477            333             284                    0                8   \n",
       "23478           4591            4037                    1               89   \n",
       "23479            508             430                    0               22   \n",
       "23480            981             835                    0               41   \n",
       "\n",
       "       f_total_punctuations  \n",
       "0                       107  \n",
       "1                        26  \n",
       "2                       109  \n",
       "3                        73  \n",
       "4                        38  \n",
       "...                     ...  \n",
       "23476                    30  \n",
       "23477                    35  \n",
       "23478                   420  \n",
       "23479                    50  \n",
       "23480                   106  \n",
       "\n",
       "[23481 rows x 5 columns]"
      ]
     },
     "execution_count": 51,
     "metadata": {},
     "output_type": "execute_result"
    }
   ],
   "source": [
    "f_df #created a data frame with the above 5 variables mentioned above for Fake data set"
   ]
  },
  {
   "cell_type": "code",
   "execution_count": 52,
   "id": "37f42fdf",
   "metadata": {
    "colab": {
     "base_uri": "https://localhost:8080/",
     "height": 771
    },
    "id": "37f42fdf",
    "outputId": "86a4d5ec-29bd-4da2-822f-ca92f268317f"
   },
   "outputs": [
    {
     "data": {
      "text/html": [
       "\n",
       "  <div id=\"df-d2556b55-4748-433f-9229-f1e837d95a42\" class=\"colab-df-container\">\n",
       "    <div>\n",
       "<style scoped>\n",
       "    .dataframe tbody tr th:only-of-type {\n",
       "        vertical-align: middle;\n",
       "    }\n",
       "\n",
       "    .dataframe tbody tr th {\n",
       "        vertical-align: top;\n",
       "    }\n",
       "\n",
       "    .dataframe thead th {\n",
       "        text-align: right;\n",
       "    }\n",
       "</style>\n",
       "<table border=\"1\" class=\"dataframe\">\n",
       "  <thead>\n",
       "    <tr style=\"text-align: right;\">\n",
       "      <th></th>\n",
       "      <th>title</th>\n",
       "      <th>text</th>\n",
       "      <th>subject</th>\n",
       "      <th>date</th>\n",
       "      <th>f_total_words</th>\n",
       "      <th>f_content_word</th>\n",
       "      <th>f_exclamation_marks</th>\n",
       "      <th>f_capital_words</th>\n",
       "      <th>f_total_punctuations</th>\n",
       "    </tr>\n",
       "  </thead>\n",
       "  <tbody>\n",
       "    <tr>\n",
       "      <th>0</th>\n",
       "      <td>Donald Trump Sends Out Embarrassing New Year’...</td>\n",
       "      <td>Donald Trump just couldn t wish all Americans ...</td>\n",
       "      <td>News</td>\n",
       "      <td>December 31, 2017</td>\n",
       "      <td>599</td>\n",
       "      <td>447</td>\n",
       "      <td>6</td>\n",
       "      <td>2</td>\n",
       "      <td>107</td>\n",
       "    </tr>\n",
       "    <tr>\n",
       "      <th>1</th>\n",
       "      <td>Drunk Bragging Trump Staffer Started Russian ...</td>\n",
       "      <td>House Intelligence Committee Chairman Devin Nu...</td>\n",
       "      <td>News</td>\n",
       "      <td>December 31, 2017</td>\n",
       "      <td>331</td>\n",
       "      <td>292</td>\n",
       "      <td>0</td>\n",
       "      <td>3</td>\n",
       "      <td>26</td>\n",
       "    </tr>\n",
       "    <tr>\n",
       "      <th>2</th>\n",
       "      <td>Sheriff David Clarke Becomes An Internet Joke...</td>\n",
       "      <td>On Friday, it was revealed that former Milwauk...</td>\n",
       "      <td>News</td>\n",
       "      <td>December 30, 2017</td>\n",
       "      <td>689</td>\n",
       "      <td>526</td>\n",
       "      <td>2</td>\n",
       "      <td>33</td>\n",
       "      <td>109</td>\n",
       "    </tr>\n",
       "    <tr>\n",
       "      <th>3</th>\n",
       "      <td>Trump Is So Obsessed He Even Has Obama’s Name...</td>\n",
       "      <td>On Christmas day, Donald Trump announced that ...</td>\n",
       "      <td>News</td>\n",
       "      <td>December 29, 2017</td>\n",
       "      <td>519</td>\n",
       "      <td>401</td>\n",
       "      <td>0</td>\n",
       "      <td>4</td>\n",
       "      <td>73</td>\n",
       "    </tr>\n",
       "    <tr>\n",
       "      <th>4</th>\n",
       "      <td>Pope Francis Just Called Out Donald Trump Dur...</td>\n",
       "      <td>Pope Francis used his annual Christmas Day mes...</td>\n",
       "      <td>News</td>\n",
       "      <td>December 25, 2017</td>\n",
       "      <td>458</td>\n",
       "      <td>418</td>\n",
       "      <td>0</td>\n",
       "      <td>0</td>\n",
       "      <td>38</td>\n",
       "    </tr>\n",
       "    <tr>\n",
       "      <th>...</th>\n",
       "      <td>...</td>\n",
       "      <td>...</td>\n",
       "      <td>...</td>\n",
       "      <td>...</td>\n",
       "      <td>...</td>\n",
       "      <td>...</td>\n",
       "      <td>...</td>\n",
       "      <td>...</td>\n",
       "      <td>...</td>\n",
       "    </tr>\n",
       "    <tr>\n",
       "      <th>23476</th>\n",
       "      <td>McPain: John McCain Furious That Iran Treated ...</td>\n",
       "      <td>21st Century Wire says As 21WIRE reported earl...</td>\n",
       "      <td>Middle-east</td>\n",
       "      <td>January 16, 2016</td>\n",
       "      <td>553</td>\n",
       "      <td>501</td>\n",
       "      <td>0</td>\n",
       "      <td>19</td>\n",
       "      <td>30</td>\n",
       "    </tr>\n",
       "    <tr>\n",
       "      <th>23477</th>\n",
       "      <td>JUSTICE? Yahoo Settles E-mail Privacy Class-ac...</td>\n",
       "      <td>21st Century Wire says It s a familiar theme. ...</td>\n",
       "      <td>Middle-east</td>\n",
       "      <td>January 16, 2016</td>\n",
       "      <td>333</td>\n",
       "      <td>284</td>\n",
       "      <td>0</td>\n",
       "      <td>8</td>\n",
       "      <td>35</td>\n",
       "    </tr>\n",
       "    <tr>\n",
       "      <th>23478</th>\n",
       "      <td>Sunnistan: US and Allied ‘Safe Zone’ Plan to T...</td>\n",
       "      <td>Patrick Henningsen  21st Century WireRemember ...</td>\n",
       "      <td>Middle-east</td>\n",
       "      <td>January 15, 2016</td>\n",
       "      <td>4591</td>\n",
       "      <td>4037</td>\n",
       "      <td>1</td>\n",
       "      <td>89</td>\n",
       "      <td>420</td>\n",
       "    </tr>\n",
       "    <tr>\n",
       "      <th>23479</th>\n",
       "      <td>How to Blow $700 Million: Al Jazeera America F...</td>\n",
       "      <td>21st Century Wire says Al Jazeera America will...</td>\n",
       "      <td>Middle-east</td>\n",
       "      <td>January 14, 2016</td>\n",
       "      <td>508</td>\n",
       "      <td>430</td>\n",
       "      <td>0</td>\n",
       "      <td>22</td>\n",
       "      <td>50</td>\n",
       "    </tr>\n",
       "    <tr>\n",
       "      <th>23480</th>\n",
       "      <td>10 U.S. Navy Sailors Held by Iranian Military ...</td>\n",
       "      <td>21st Century Wire says As 21WIRE predicted in ...</td>\n",
       "      <td>Middle-east</td>\n",
       "      <td>January 12, 2016</td>\n",
       "      <td>981</td>\n",
       "      <td>835</td>\n",
       "      <td>0</td>\n",
       "      <td>41</td>\n",
       "      <td>106</td>\n",
       "    </tr>\n",
       "  </tbody>\n",
       "</table>\n",
       "<p>23481 rows × 9 columns</p>\n",
       "</div>\n",
       "    <div class=\"colab-df-buttons\">\n",
       "\n",
       "  <div class=\"colab-df-container\">\n",
       "    <button class=\"colab-df-convert\" onclick=\"convertToInteractive('df-d2556b55-4748-433f-9229-f1e837d95a42')\"\n",
       "            title=\"Convert this dataframe to an interactive table.\"\n",
       "            style=\"display:none;\">\n",
       "\n",
       "  <svg xmlns=\"http://www.w3.org/2000/svg\" height=\"24px\" viewBox=\"0 -960 960 960\">\n",
       "    <path d=\"M120-120v-720h720v720H120Zm60-500h600v-160H180v160Zm220 220h160v-160H400v160Zm0 220h160v-160H400v160ZM180-400h160v-160H180v160Zm440 0h160v-160H620v160ZM180-180h160v-160H180v160Zm440 0h160v-160H620v160Z\"/>\n",
       "  </svg>\n",
       "    </button>\n",
       "\n",
       "  <style>\n",
       "    .colab-df-container {\n",
       "      display:flex;\n",
       "      gap: 12px;\n",
       "    }\n",
       "\n",
       "    .colab-df-convert {\n",
       "      background-color: #E8F0FE;\n",
       "      border: none;\n",
       "      border-radius: 50%;\n",
       "      cursor: pointer;\n",
       "      display: none;\n",
       "      fill: #1967D2;\n",
       "      height: 32px;\n",
       "      padding: 0 0 0 0;\n",
       "      width: 32px;\n",
       "    }\n",
       "\n",
       "    .colab-df-convert:hover {\n",
       "      background-color: #E2EBFA;\n",
       "      box-shadow: 0px 1px 2px rgba(60, 64, 67, 0.3), 0px 1px 3px 1px rgba(60, 64, 67, 0.15);\n",
       "      fill: #174EA6;\n",
       "    }\n",
       "\n",
       "    .colab-df-buttons div {\n",
       "      margin-bottom: 4px;\n",
       "    }\n",
       "\n",
       "    [theme=dark] .colab-df-convert {\n",
       "      background-color: #3B4455;\n",
       "      fill: #D2E3FC;\n",
       "    }\n",
       "\n",
       "    [theme=dark] .colab-df-convert:hover {\n",
       "      background-color: #434B5C;\n",
       "      box-shadow: 0px 1px 3px 1px rgba(0, 0, 0, 0.15);\n",
       "      filter: drop-shadow(0px 1px 2px rgba(0, 0, 0, 0.3));\n",
       "      fill: #FFFFFF;\n",
       "    }\n",
       "  </style>\n",
       "\n",
       "    <script>\n",
       "      const buttonEl =\n",
       "        document.querySelector('#df-d2556b55-4748-433f-9229-f1e837d95a42 button.colab-df-convert');\n",
       "      buttonEl.style.display =\n",
       "        google.colab.kernel.accessAllowed ? 'block' : 'none';\n",
       "\n",
       "      async function convertToInteractive(key) {\n",
       "        const element = document.querySelector('#df-d2556b55-4748-433f-9229-f1e837d95a42');\n",
       "        const dataTable =\n",
       "          await google.colab.kernel.invokeFunction('convertToInteractive',\n",
       "                                                    [key], {});\n",
       "        if (!dataTable) return;\n",
       "\n",
       "        const docLinkHtml = 'Like what you see? Visit the ' +\n",
       "          '<a target=\"_blank\" href=https://colab.research.google.com/notebooks/data_table.ipynb>data table notebook</a>'\n",
       "          + ' to learn more about interactive tables.';\n",
       "        element.innerHTML = '';\n",
       "        dataTable['output_type'] = 'display_data';\n",
       "        await google.colab.output.renderOutput(dataTable, element);\n",
       "        const docLink = document.createElement('div');\n",
       "        docLink.innerHTML = docLinkHtml;\n",
       "        element.appendChild(docLink);\n",
       "      }\n",
       "    </script>\n",
       "  </div>\n",
       "\n",
       "\n",
       "<div id=\"df-472b8c64-2ecb-42f0-bc8c-71f4c272e7b0\">\n",
       "  <button class=\"colab-df-quickchart\" onclick=\"quickchart('df-472b8c64-2ecb-42f0-bc8c-71f4c272e7b0')\"\n",
       "            title=\"Suggest charts.\"\n",
       "            style=\"display:none;\">\n",
       "\n",
       "<svg xmlns=\"http://www.w3.org/2000/svg\" height=\"24px\"viewBox=\"0 0 24 24\"\n",
       "     width=\"24px\">\n",
       "    <g>\n",
       "        <path d=\"M19 3H5c-1.1 0-2 .9-2 2v14c0 1.1.9 2 2 2h14c1.1 0 2-.9 2-2V5c0-1.1-.9-2-2-2zM9 17H7v-7h2v7zm4 0h-2V7h2v10zm4 0h-2v-4h2v4z\"/>\n",
       "    </g>\n",
       "</svg>\n",
       "  </button>\n",
       "\n",
       "<style>\n",
       "  .colab-df-quickchart {\n",
       "      --bg-color: #E8F0FE;\n",
       "      --fill-color: #1967D2;\n",
       "      --hover-bg-color: #E2EBFA;\n",
       "      --hover-fill-color: #174EA6;\n",
       "      --disabled-fill-color: #AAA;\n",
       "      --disabled-bg-color: #DDD;\n",
       "  }\n",
       "\n",
       "  [theme=dark] .colab-df-quickchart {\n",
       "      --bg-color: #3B4455;\n",
       "      --fill-color: #D2E3FC;\n",
       "      --hover-bg-color: #434B5C;\n",
       "      --hover-fill-color: #FFFFFF;\n",
       "      --disabled-bg-color: #3B4455;\n",
       "      --disabled-fill-color: #666;\n",
       "  }\n",
       "\n",
       "  .colab-df-quickchart {\n",
       "    background-color: var(--bg-color);\n",
       "    border: none;\n",
       "    border-radius: 50%;\n",
       "    cursor: pointer;\n",
       "    display: none;\n",
       "    fill: var(--fill-color);\n",
       "    height: 32px;\n",
       "    padding: 0;\n",
       "    width: 32px;\n",
       "  }\n",
       "\n",
       "  .colab-df-quickchart:hover {\n",
       "    background-color: var(--hover-bg-color);\n",
       "    box-shadow: 0 1px 2px rgba(60, 64, 67, 0.3), 0 1px 3px 1px rgba(60, 64, 67, 0.15);\n",
       "    fill: var(--button-hover-fill-color);\n",
       "  }\n",
       "\n",
       "  .colab-df-quickchart-complete:disabled,\n",
       "  .colab-df-quickchart-complete:disabled:hover {\n",
       "    background-color: var(--disabled-bg-color);\n",
       "    fill: var(--disabled-fill-color);\n",
       "    box-shadow: none;\n",
       "  }\n",
       "\n",
       "  .colab-df-spinner {\n",
       "    border: 2px solid var(--fill-color);\n",
       "    border-color: transparent;\n",
       "    border-bottom-color: var(--fill-color);\n",
       "    animation:\n",
       "      spin 1s steps(1) infinite;\n",
       "  }\n",
       "\n",
       "  @keyframes spin {\n",
       "    0% {\n",
       "      border-color: transparent;\n",
       "      border-bottom-color: var(--fill-color);\n",
       "      border-left-color: var(--fill-color);\n",
       "    }\n",
       "    20% {\n",
       "      border-color: transparent;\n",
       "      border-left-color: var(--fill-color);\n",
       "      border-top-color: var(--fill-color);\n",
       "    }\n",
       "    30% {\n",
       "      border-color: transparent;\n",
       "      border-left-color: var(--fill-color);\n",
       "      border-top-color: var(--fill-color);\n",
       "      border-right-color: var(--fill-color);\n",
       "    }\n",
       "    40% {\n",
       "      border-color: transparent;\n",
       "      border-right-color: var(--fill-color);\n",
       "      border-top-color: var(--fill-color);\n",
       "    }\n",
       "    60% {\n",
       "      border-color: transparent;\n",
       "      border-right-color: var(--fill-color);\n",
       "    }\n",
       "    80% {\n",
       "      border-color: transparent;\n",
       "      border-right-color: var(--fill-color);\n",
       "      border-bottom-color: var(--fill-color);\n",
       "    }\n",
       "    90% {\n",
       "      border-color: transparent;\n",
       "      border-bottom-color: var(--fill-color);\n",
       "    }\n",
       "  }\n",
       "</style>\n",
       "\n",
       "  <script>\n",
       "    async function quickchart(key) {\n",
       "      const quickchartButtonEl =\n",
       "        document.querySelector('#' + key + ' button');\n",
       "      quickchartButtonEl.disabled = true;  // To prevent multiple clicks.\n",
       "      quickchartButtonEl.classList.add('colab-df-spinner');\n",
       "      try {\n",
       "        const charts = await google.colab.kernel.invokeFunction(\n",
       "            'suggestCharts', [key], {});\n",
       "      } catch (error) {\n",
       "        console.error('Error during call to suggestCharts:', error);\n",
       "      }\n",
       "      quickchartButtonEl.classList.remove('colab-df-spinner');\n",
       "      quickchartButtonEl.classList.add('colab-df-quickchart-complete');\n",
       "    }\n",
       "    (() => {\n",
       "      let quickchartButtonEl =\n",
       "        document.querySelector('#df-472b8c64-2ecb-42f0-bc8c-71f4c272e7b0 button');\n",
       "      quickchartButtonEl.style.display =\n",
       "        google.colab.kernel.accessAllowed ? 'block' : 'none';\n",
       "    })();\n",
       "  </script>\n",
       "</div>\n",
       "    </div>\n",
       "  </div>\n"
      ],
      "text/plain": [
       "                                                   title  \\\n",
       "0       Donald Trump Sends Out Embarrassing New Year’...   \n",
       "1       Drunk Bragging Trump Staffer Started Russian ...   \n",
       "2       Sheriff David Clarke Becomes An Internet Joke...   \n",
       "3       Trump Is So Obsessed He Even Has Obama’s Name...   \n",
       "4       Pope Francis Just Called Out Donald Trump Dur...   \n",
       "...                                                  ...   \n",
       "23476  McPain: John McCain Furious That Iran Treated ...   \n",
       "23477  JUSTICE? Yahoo Settles E-mail Privacy Class-ac...   \n",
       "23478  Sunnistan: US and Allied ‘Safe Zone’ Plan to T...   \n",
       "23479  How to Blow $700 Million: Al Jazeera America F...   \n",
       "23480  10 U.S. Navy Sailors Held by Iranian Military ...   \n",
       "\n",
       "                                                    text      subject  \\\n",
       "0      Donald Trump just couldn t wish all Americans ...         News   \n",
       "1      House Intelligence Committee Chairman Devin Nu...         News   \n",
       "2      On Friday, it was revealed that former Milwauk...         News   \n",
       "3      On Christmas day, Donald Trump announced that ...         News   \n",
       "4      Pope Francis used his annual Christmas Day mes...         News   \n",
       "...                                                  ...          ...   \n",
       "23476  21st Century Wire says As 21WIRE reported earl...  Middle-east   \n",
       "23477  21st Century Wire says It s a familiar theme. ...  Middle-east   \n",
       "23478  Patrick Henningsen  21st Century WireRemember ...  Middle-east   \n",
       "23479  21st Century Wire says Al Jazeera America will...  Middle-east   \n",
       "23480  21st Century Wire says As 21WIRE predicted in ...  Middle-east   \n",
       "\n",
       "                    date  f_total_words  f_content_word  f_exclamation_marks  \\\n",
       "0      December 31, 2017            599             447                    6   \n",
       "1      December 31, 2017            331             292                    0   \n",
       "2      December 30, 2017            689             526                    2   \n",
       "3      December 29, 2017            519             401                    0   \n",
       "4      December 25, 2017            458             418                    0   \n",
       "...                  ...            ...             ...                  ...   \n",
       "23476   January 16, 2016            553             501                    0   \n",
       "23477   January 16, 2016            333             284                    0   \n",
       "23478   January 15, 2016           4591            4037                    1   \n",
       "23479   January 14, 2016            508             430                    0   \n",
       "23480   January 12, 2016            981             835                    0   \n",
       "\n",
       "       f_capital_words  f_total_punctuations  \n",
       "0                    2                   107  \n",
       "1                    3                    26  \n",
       "2                   33                   109  \n",
       "3                    4                    73  \n",
       "4                    0                    38  \n",
       "...                ...                   ...  \n",
       "23476               19                    30  \n",
       "23477                8                    35  \n",
       "23478               89                   420  \n",
       "23479               22                    50  \n",
       "23480               41                   106  \n",
       "\n",
       "[23481 rows x 9 columns]"
      ]
     },
     "execution_count": 52,
     "metadata": {},
     "output_type": "execute_result"
    }
   ],
   "source": [
    "fake_final_df = pd.concat([df2,f_df], axis = 1)\n",
    "fake_final_df"
   ]
  },
  {
   "cell_type": "markdown",
   "id": "63c96c87",
   "metadata": {
    "id": "63c96c87"
   },
   "source": [
    "# More Data analysis:\n",
    "The ratio of the total words of true data to fake data set is 0.84, and we can also clearly see that the there more number of words in Fake data set."
   ]
  },
  {
   "cell_type": "code",
   "execution_count": 53,
   "id": "291f2fbc",
   "metadata": {
    "colab": {
     "base_uri": "https://localhost:8080/"
    },
    "id": "291f2fbc",
    "outputId": "d99bb60c-6d45-4379-ac33-dae801bff681"
   },
   "outputs": [
    {
     "data": {
      "text/plain": [
       "9321833"
      ]
     },
     "execution_count": 53,
     "metadata": {},
     "output_type": "execute_result"
    }
   ],
   "source": [
    "true_total_words_sum = true_final_df['total_words'].sum()\n",
    "true_total_words_sum"
   ]
  },
  {
   "cell_type": "code",
   "execution_count": 54,
   "id": "8ba3c53c",
   "metadata": {
    "colab": {
     "base_uri": "https://localhost:8080/"
    },
    "id": "8ba3c53c",
    "outputId": "fd353927-c952-4df4-9c36-a48b9954f66c"
   },
   "outputs": [
    {
     "data": {
      "text/plain": [
       "11036986"
      ]
     },
     "execution_count": 54,
     "metadata": {},
     "output_type": "execute_result"
    }
   ],
   "source": [
    "fake_total_words_sum = fake_final_df['f_total_words'].sum()\n",
    "fake_total_words_sum"
   ]
  },
  {
   "cell_type": "code",
   "execution_count": 55,
   "id": "55d5e941",
   "metadata": {
    "colab": {
     "base_uri": "https://localhost:8080/"
    },
    "id": "55d5e941",
    "outputId": "fb5f3434-1261-41e2-9f4e-9b830f8835b8"
   },
   "outputs": [
    {
     "data": {
      "text/plain": [
       "0.8445995129467411"
      ]
     },
     "execution_count": 55,
     "metadata": {},
     "output_type": "execute_result"
    }
   ],
   "source": [
    "ratio_total_words = true_total_words_sum/fake_total_words_sum\n",
    "ratio_total_words"
   ]
  },
  {
   "cell_type": "markdown",
   "id": "24f96e95",
   "metadata": {
    "id": "24f96e95"
   },
   "source": [
    "The ratio to the content words in truth data set to fake data set is 0.83, even here we can see that there are more content words in fake data set than true data set"
   ]
  },
  {
   "cell_type": "code",
   "execution_count": 56,
   "id": "3705a0f7",
   "metadata": {
    "colab": {
     "base_uri": "https://localhost:8080/"
    },
    "id": "3705a0f7",
    "outputId": "cccf2dd5-c142-4da0-9922-55a2359831c5"
   },
   "outputs": [
    {
     "data": {
      "text/plain": [
       "8036004"
      ]
     },
     "execution_count": 56,
     "metadata": {},
     "output_type": "execute_result"
    }
   ],
   "source": [
    "true_content_words_sum = true_final_df['content_word'].sum()\n",
    "true_content_words_sum"
   ]
  },
  {
   "cell_type": "code",
   "execution_count": 57,
   "id": "5359699d",
   "metadata": {
    "colab": {
     "base_uri": "https://localhost:8080/"
    },
    "id": "5359699d",
    "outputId": "a4c3a900-b8fb-4ffd-d977-fbc1e66169fb"
   },
   "outputs": [
    {
     "data": {
      "text/plain": [
       "9596094"
      ]
     },
     "execution_count": 57,
     "metadata": {},
     "output_type": "execute_result"
    }
   ],
   "source": [
    "fake_content_words_sum = fake_final_df['f_content_word'].sum()\n",
    "fake_content_words_sum"
   ]
  },
  {
   "cell_type": "code",
   "execution_count": 58,
   "id": "292f56b8",
   "metadata": {
    "colab": {
     "base_uri": "https://localhost:8080/"
    },
    "id": "292f56b8",
    "outputId": "da613843-c580-4d23-85ea-29ebbe4f5512"
   },
   "outputs": [
    {
     "data": {
      "text/plain": [
       "0.8374244770841136"
      ]
     },
     "execution_count": 58,
     "metadata": {},
     "output_type": "execute_result"
    }
   ],
   "source": [
    "ratio_content_words = true_content_words_sum/fake_content_words_sum\n",
    "ratio_content_words"
   ]
  },
  {
   "cell_type": "markdown",
   "id": "7f2d472e",
   "metadata": {
    "id": "7f2d472e"
   },
   "source": [
    "The ratio to the content words in truth data set to fake data set is 0.078, there is a drastic difference between the number of exclamatory marks in fake and true data sets, there are so many exclamatory marks in the fake data set, which is about 15,650 exclamary marks"
   ]
  },
  {
   "cell_type": "code",
   "execution_count": 59,
   "id": "658c64fe",
   "metadata": {
    "colab": {
     "base_uri": "https://localhost:8080/"
    },
    "id": "658c64fe",
    "outputId": "3bee0feb-258a-4a99-d08e-8daa0e169d46"
   },
   "outputs": [
    {
     "data": {
      "text/plain": [
       "1326"
      ]
     },
     "execution_count": 59,
     "metadata": {},
     "output_type": "execute_result"
    }
   ],
   "source": [
    "true_exc_marks_sum = true_final_df['exclamation_marks'].sum()\n",
    "true_exc_marks_sum"
   ]
  },
  {
   "cell_type": "code",
   "execution_count": 60,
   "id": "19e05a97",
   "metadata": {
    "colab": {
     "base_uri": "https://localhost:8080/"
    },
    "id": "19e05a97",
    "outputId": "b732f863-946b-49c9-c192-dec6a017b81b"
   },
   "outputs": [
    {
     "data": {
      "text/plain": [
       "16976"
      ]
     },
     "execution_count": 60,
     "metadata": {},
     "output_type": "execute_result"
    }
   ],
   "source": [
    "fake_exc_marks_sum = fake_final_df['f_exclamation_marks'].sum()\n",
    "fake_exc_marks_sum"
   ]
  },
  {
   "cell_type": "code",
   "execution_count": 61,
   "id": "9434c24d",
   "metadata": {
    "colab": {
     "base_uri": "https://localhost:8080/"
    },
    "id": "9434c24d",
    "outputId": "728ea1dc-dd47-4d60-aac1-3f17b8f77636"
   },
   "outputs": [
    {
     "data": {
      "text/plain": [
       "0.07811027332704995"
      ]
     },
     "execution_count": 61,
     "metadata": {},
     "output_type": "execute_result"
    }
   ],
   "source": [
    "ratio_exc_marks = true_exc_marks_sum/fake_exc_marks_sum\n",
    "ratio_exc_marks"
   ]
  },
  {
   "cell_type": "markdown",
   "id": "bb46f9d3",
   "metadata": {
    "id": "bb46f9d3"
   },
   "source": [
    "The ratio to the capital words in true to fake data set is 0.76, with 172606 capital words in fake data set and 130891 in true data set."
   ]
  },
  {
   "cell_type": "code",
   "execution_count": 62,
   "id": "799ce21d",
   "metadata": {
    "colab": {
     "base_uri": "https://localhost:8080/"
    },
    "id": "799ce21d",
    "outputId": "2df0d029-5769-45a8-9f19-afcfa9aa5ce7"
   },
   "outputs": [
    {
     "data": {
      "text/plain": [
       "130891"
      ]
     },
     "execution_count": 62,
     "metadata": {},
     "output_type": "execute_result"
    }
   ],
   "source": [
    "true_cap_words_sum = true_final_df['capital_words'].sum()\n",
    "true_cap_words_sum"
   ]
  },
  {
   "cell_type": "code",
   "execution_count": 63,
   "id": "0ae0ccae",
   "metadata": {
    "colab": {
     "base_uri": "https://localhost:8080/"
    },
    "id": "0ae0ccae",
    "outputId": "8a2e2aaf-ec7f-46e7-a937-24dfa3fe2553"
   },
   "outputs": [
    {
     "data": {
      "text/plain": [
       "172606"
      ]
     },
     "execution_count": 63,
     "metadata": {},
     "output_type": "execute_result"
    }
   ],
   "source": [
    "fake_cap_words_sum = fake_final_df['f_capital_words'].sum()\n",
    "fake_cap_words_sum"
   ]
  },
  {
   "cell_type": "code",
   "execution_count": 64,
   "id": "8c1ded38",
   "metadata": {
    "colab": {
     "base_uri": "https://localhost:8080/"
    },
    "id": "8c1ded38",
    "outputId": "86e59863-a998-4d3d-ee8b-8f5f8c5c62d1"
   },
   "outputs": [
    {
     "data": {
      "text/plain": [
       "0.7583224221637719"
      ]
     },
     "execution_count": 64,
     "metadata": {},
     "output_type": "execute_result"
    }
   ],
   "source": [
    "ratio_cap_words = true_cap_words_sum/fake_cap_words_sum\n",
    "ratio_cap_words"
   ]
  },
  {
   "cell_type": "markdown",
   "id": "6c2c51d7",
   "metadata": {
    "id": "6c2c51d7"
   },
   "source": [
    "Finally we calcuted the total punctuation marks in both the data sets, the ratio of punctuations for true to fake data set is 0.80, with 1,054,418 punctuations in fake data set and 851,595 punctuations in the true Data Set."
   ]
  },
  {
   "cell_type": "markdown",
   "id": "a8a58b65",
   "metadata": {
    "id": "a8a58b65"
   },
   "source": [
    "All in all, in all the five categories fake data set had more count of Total words, exclamatory marks, punctuations, content words and capital words."
   ]
  },
  {
   "cell_type": "code",
   "execution_count": 65,
   "id": "c6a6ca1d",
   "metadata": {
    "colab": {
     "base_uri": "https://localhost:8080/"
    },
    "id": "c6a6ca1d",
    "outputId": "1ef2d4f4-f25d-4329-bdaf-ddb8035211dc"
   },
   "outputs": [
    {
     "data": {
      "text/plain": [
       "851609"
      ]
     },
     "execution_count": 65,
     "metadata": {},
     "output_type": "execute_result"
    }
   ],
   "source": [
    "true_punc_sum = true_final_df['total_punctuations'].sum()\n",
    "true_punc_sum"
   ]
  },
  {
   "cell_type": "code",
   "execution_count": 66,
   "id": "03352b5d",
   "metadata": {
    "colab": {
     "base_uri": "https://localhost:8080/"
    },
    "id": "03352b5d",
    "outputId": "28f3a4fa-fd1b-4985-98c4-4dd7ecc0fbb5"
   },
   "outputs": [
    {
     "data": {
      "text/plain": [
       "1054602"
      ]
     },
     "execution_count": 66,
     "metadata": {},
     "output_type": "execute_result"
    }
   ],
   "source": [
    "fake_punc_sum = fake_final_df['f_total_punctuations'].sum()\n",
    "fake_punc_sum"
   ]
  },
  {
   "cell_type": "code",
   "execution_count": 67,
   "id": "6fb7fa09",
   "metadata": {
    "colab": {
     "base_uri": "https://localhost:8080/"
    },
    "id": "6fb7fa09",
    "outputId": "1b118d0d-22a2-4d6f-880c-5ceb915074b6"
   },
   "outputs": [
    {
     "data": {
      "text/plain": [
       "0.8075169590044395"
      ]
     },
     "execution_count": 67,
     "metadata": {},
     "output_type": "execute_result"
    }
   ],
   "source": [
    "ratio_punc = true_punc_sum/fake_punc_sum\n",
    "ratio_punc"
   ]
  },
  {
   "cell_type": "code",
   "execution_count": 68,
   "id": "af2eec31",
   "metadata": {
    "id": "af2eec31"
   },
   "outputs": [],
   "source": [
    "true_final_df.to_csv('true_final.csv', index = False)"
   ]
  },
  {
   "cell_type": "code",
   "execution_count": 69,
   "id": "236c8b21",
   "metadata": {
    "id": "236c8b21"
   },
   "outputs": [],
   "source": [
    "fake_final_df.to_csv('fake_final.csv', index = False)"
   ]
  },
  {
   "cell_type": "code",
   "execution_count": null,
   "id": "5bd951d5",
   "metadata": {
    "id": "5bd951d5"
   },
   "outputs": [],
   "source": []
  }
 ],
 "metadata": {
  "colab": {
   "provenance": []
  },
  "kernelspec": {
   "display_name": "Python 3 (ipykernel)",
   "language": "python",
   "name": "python3"
  },
  "language_info": {
   "codemirror_mode": {
    "name": "ipython",
    "version": 3
   },
   "file_extension": ".py",
   "mimetype": "text/x-python",
   "name": "python",
   "nbconvert_exporter": "python",
   "pygments_lexer": "ipython3",
   "version": "3.9.12"
  }
 },
 "nbformat": 4,
 "nbformat_minor": 5
}
